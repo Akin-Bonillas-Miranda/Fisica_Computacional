{
  "nbformat": 4,
  "nbformat_minor": 0,
  "metadata": {
    "colab": {
      "name": "Actividad2.ipynb",
      "provenance": []
    },
    "kernelspec": {
      "name": "python3",
      "display_name": "Python 3"
    }
  },
  "cells": [
    {
      "cell_type": "markdown",
      "metadata": {
        "id": "6lBTzOo2799W"
      },
      "source": [
        "***`Universidad de Sonora, Campus Hermosillo`***\r\n",
        "\r\n",
        "---\r\n",
        "\r\n",
        "***`Profesor: `*** *`Lizarraga Celaya Carlos`*\r\n",
        "\r\n",
        "***`Materia: `*** *`Física Computacional`*\r\n",
        "\r\n",
        "---\r\n",
        "\r\n",
        "***`Trabajo: `*** *`Actividad 2`*\r\n",
        "\r\n",
        "---\r\n",
        "\r\n",
        "***`Alumno: `*** *`Bonillas Miranda Akin`*\r\n",
        "\r\n",
        "***`Número de Expediente: `*** *`219211360`*\r\n",
        "\r\n",
        "***`Correo: `*** *`a219211360@unison.mx // akinbonillasmiranda@gmail.com`*\r\n",
        "\r\n",
        "***`Número Telefónico: `*** *`662 368 2474`*\r\n",
        "\r\n",
        "---\r\n",
        "\r\n",
        "***`Grupo: `*** *`2`*\r\n",
        "\r\n",
        "***`Carrera: `*** *`Licenciatura en Física`*\r\n",
        "\r\n",
        "***`Semestre: `*** *`Cuarto Semestre`*\r\n",
        "\r\n",
        "---\r\n",
        "\r\n",
        "***`Viernes 22 de Enero de 2021, Hermosillo, Sonora`***"
      ]
    },
    {
      "cell_type": "markdown",
      "metadata": {
        "id": "UIYA9_3bJ_8q"
      },
      "source": [
        "\r\n",
        "***`Ejercicio 1:`*** *`Se proporciona el siguiente programa para calcular el área de un rectángulo:`* "
      ]
    },
    {
      "cell_type": "code",
      "metadata": {
        "id": "Uwu0-GIiPfCu"
      },
      "source": [
        "import numpy as np #Libreria: NumPy, la usaremos para importar pi, y la función sqrt (raíz cuadrada)"
      ],
      "execution_count": null,
      "outputs": []
    },
    {
      "cell_type": "code",
      "metadata": {
        "id": "7wL7MN4pfoNc"
      },
      "source": [
        " import matplotlib.pyplot as plt # Cargar la subbiblioteca pytlot de Matplotlib"
      ],
      "execution_count": null,
      "outputs": []
    },
    {
      "cell_type": "code",
      "metadata": {
        "id": "p9f0iUk44uQn"
      },
      "source": [
        "# Se utiliza el símbolo # para hacer comentarios.\n",
        "# Se define una función de 2 variables para calcular el área.  \n",
        "def area(x, y):\n",
        "    return x*y\n",
        " \n",
        "print(\"Proporciona el largo y altura del rectángulo: \", end=\"\")\n",
        "l = float(input())\n",
        "w = float(input())\n",
        "a = area(l, w)\n",
        "# Imprime el valor del área en formato libre.\n",
        "print(\"\\nArea = \", a)\n",
        "# Imprime el valor del área con 2 decimales. \n",
        "print(\"\\nArea = {:.2f}\".format(a))"
      ],
      "execution_count": null,
      "outputs": []
    },
    {
      "cell_type": "markdown",
      "metadata": {
        "id": "eu0tCFiZ4vay"
      },
      "source": [
        "***`Usando este ejemplo, modifícalo para calcular:`***\r\n",
        "\r\n",
        "> *`Área de: un círculo y  una elipse.`*\r\n",
        "\r\n"
      ]
    },
    {
      "cell_type": "markdown",
      "metadata": {
        "id": "eQ4iUDbpldEO"
      },
      "source": [
        "*La siguiente celda se encarga de calcular el área de un círuclo de radio $r$ mediante la siguienet ecuación:*\r\n",
        "\r\n",
        "$a=\\pi r^{2}$"
      ]
    },
    {
      "cell_type": "code",
      "metadata": {
        "id": "CFgGch5oM6Ng"
      },
      "source": [
        "#================== Sección para cálcular el área del círculo ==================\r\n",
        "  \r\n",
        "def area(x):\r\n",
        "    return np.pi*x**2 # Definimos la función para calcular el área\r\n",
        "\r\n",
        "#======================= Información acerca del programa =======================\r\n",
        "\r\n",
        "print ( \"Este programa tiene la función de calcular el área de un círculo\" )\r\n",
        "print ( \"de radio ´r´. \" )\r\n",
        "print ( \" \" )\r\n",
        "r = float ( input ( \"Introduzca el radio: \" ) ) #Se solicita el radio\r\n",
        "\r\n",
        "#============================= Cálculo e impresión =============================\r\n",
        "\r\n",
        "area=area(r)\r\n",
        "\r\n",
        "print ( \"\\nEl área del círculo para r=\", r, \":\", area, \"[L]^2\" ) \r\n",
        "# Resultado\r\n",
        "\r\n",
        "print ( \"\\nEl área del círculo a dos puntos decimales = {:.2f}\"\r\n",
        ".format(area),\"[L]^2\" )                                 \r\n",
        "# Resultado truncado"
      ],
      "execution_count": null,
      "outputs": []
    },
    {
      "cell_type": "markdown",
      "metadata": {
        "id": "ct4L00Zbl9iy"
      },
      "source": [
        "*La siguiente celda se encarga de calcular el área de una elipse de semieje mayor $a$ y semieje menor $b$ mediante la siguienet ecuación:*\r\n",
        "\r\n",
        "$a=\\pi ab$"
      ]
    },
    {
      "cell_type": "code",
      "metadata": {
        "id": "ME7Bubu1WXue"
      },
      "source": [
        "#================== Sección para cálcular el área de la elipse =================\r\n",
        "\r\n",
        "def area(x,y):\r\n",
        "  return np.pi*x*y # Definimos la función para calcular el área\r\n",
        "\r\n",
        "#======================= Información acerca del programa =======================\r\n",
        "\r\n",
        "print ( \"Este programa tiene la función de calcular el área de una elipse\" )\r\n",
        "print ( \"de semieje mayor ´a´ y semieje menor ´b´ \" )\r\n",
        "print ( \" \" )\r\n",
        "a = float ( input ( \"Introduzca el semieje mayor: \" ) ) #Se solicita a\r\n",
        "b = float ( input ( \"Introduzca el semieje menor: \" ) ) #Se solicita b\r\n",
        "\r\n",
        "#============================= Cálculo e impresión =============================\r\n",
        "\r\n",
        "area=area(a,b)\r\n",
        "\r\n",
        "print ( \"\\nEl área de la elipse para a=\", a, \" y b=\", b, \":\", area, \"[L]^2\" )\r\n",
        "# Resultado\r\n",
        "\r\n",
        "print ( \"\\nEl área de la elipse a dos puntos decimales = {:.2f}\"\r\n",
        ".format(area),\"[L]^2\" )\r\n",
        "# Resultado truncado"
      ],
      "execution_count": null,
      "outputs": []
    },
    {
      "cell_type": "markdown",
      "metadata": {
        "id": "br-aowUXMUXc"
      },
      "source": [
        "> *`Volumen de: una esfera y el de un cilíndro circular.`*"
      ]
    },
    {
      "cell_type": "markdown",
      "metadata": {
        "id": "5AM52PTlmXQC"
      },
      "source": [
        "*La siguiente celda se encarga de calcular el volumen de una esfera de radio $r$ mediante la siguienet ecuación:*\r\n",
        "\r\n",
        "$v=\\frac{4}{3}\\pi r^{3}$"
      ]
    },
    {
      "cell_type": "code",
      "metadata": {
        "id": "UWZT17Fhfl_1"
      },
      "source": [
        "#================ Sección para calcular el volumen de la esfera ================\r\n",
        "\r\n",
        "def vol(x):\r\n",
        "  return (4/3)*np.pi*x**3 # Definimos la función para calcular el volumen\r\n",
        "\r\n",
        "#======================= Información acerca del programa =======================\r\n",
        "\r\n",
        "print ( \"Este programa tiene la función de calcular el volumen de una esfera\" )\r\n",
        "print ( \"de radio ´r´. \" )\r\n",
        "print ( \" \" )\r\n",
        "r = float ( input ( \"Introduzca el radio: \" ) ) #Se solicita el radio\r\n",
        "\r\n",
        "#============================= Cálculo e impresión =============================\r\n",
        "\r\n",
        "vol=vol(r)\r\n",
        "\r\n",
        "print ( \"\\nEl volumen de la esfera para r=\", r, \":\", area, \"[L]^3\" ) \r\n",
        "# Resultado\r\n",
        "\r\n",
        "print ( \"\\nEl volumen de la esfera a dos puntos decimales = {:.2f}\"\r\n",
        ".format(area),\"[L]^3\" )                                 \r\n",
        "# Resultado truncado"
      ],
      "execution_count": null,
      "outputs": []
    },
    {
      "cell_type": "markdown",
      "metadata": {
        "id": "ytGYNtUkml5i"
      },
      "source": [
        "*La siguiente celda se encarga de calcular el volumen de un cilindro de radio $r$ y altura $h$ mediante la siguienet ecuación:*\r\n",
        "\r\n",
        "$v=\\pi r^{2}h$"
      ]
    },
    {
      "cell_type": "code",
      "metadata": {
        "id": "bToPwkOIflm-"
      },
      "source": [
        "#================ Sección para calcular el volumen del cilindro ================\r\n",
        "\r\n",
        "def vol(x,y):\r\n",
        "  return np.pi*x**2*y # Definimos la función para calcular el volumen\r\n",
        "\r\n",
        "#======================= Información acerca del programa =======================\r\n",
        "\r\n",
        "print ( \"Este programa tiene la función de calcular el volumen de un cilindro\" )\r\n",
        "print ( \"de radio ´r´ y altura ´h´ \" )\r\n",
        "print ( \" \" )\r\n",
        "r = float ( input ( \"Introduzca el radio: \" ) ) #Se solicita el radio\r\n",
        "b = float ( input ( \"Introduzca la altura: \" ) ) #Se solicita la altura\r\n",
        "\r\n",
        "#============================= Cálculo e impresión =============================\r\n",
        "\r\n",
        "vol=vol(r,h)\r\n",
        "\r\n",
        "print ( \"\\nEl volumen del cilindro para r=\", r, \":\", area, \"[L]^3\" ) \r\n",
        "# Resultado\r\n",
        "\r\n",
        "print ( \"\\nEl volumen del cilindro a dos puntos decimales = {:.2f}\"\r\n",
        ".format(area),\"[L]^3\" )                                 \r\n",
        "# Resultado truncado"
      ],
      "execution_count": null,
      "outputs": []
    },
    {
      "cell_type": "markdown",
      "metadata": {
        "id": "V7WA8Hc-oAjn"
      },
      "source": [
        "***`Ejercicio 2 :`*** *`Desarrollar un programa en Python que calcule las raíces de una ecuación cuadrática. `*"
      ]
    },
    {
      "cell_type": "markdown",
      "metadata": {
        "id": "D1iX4BYlomwf"
      },
      "source": [
        "*La siguiente celda se encarga de calcular las raíces reales de una ecuación cuadrádica $ax^{2}+bx+c=0$ mediante la ecuación:*\r\n",
        "\r\n",
        "$x=\\frac{-b \\pm \\sqrt{b^{2}-4ac}}{2a}$"
      ]
    },
    {
      "cell_type": "code",
      "metadata": {
        "id": "OtajudxAoIam"
      },
      "source": [
        "#==================== Sección para la calculadora de raíces ====================\r\n",
        "\r\n",
        "def root1(x,y,z):\r\n",
        "  return (-y+np.sqrt(y**2-4*x*z))/(2*x) # Definimos la primera raíz\r\n",
        "\r\n",
        "def root2(x,y,z):\r\n",
        "  return (-y-np.sqrt(y**2-4*x*z))/(2*x) # Definimos la segunda raíz\r\n",
        "\r\n",
        "#======================= Información acerca del programa =======================\r\n",
        "\r\n",
        "print ( \"Este programa tiene la función de calcular las raíces de una\" )\r\n",
        "print ( \"de segundo grando de la forma ax^2+bx+c=0.\" )\r\n",
        "print ( \" \" )\r\n",
        "a = float ( input ( \"Introduzca el coeficiente a: \" ) ) # Se solicita a\r\n",
        "b = float ( input ( \"Introduzca el coeficiente b: \" ) ) # Se solicita b\r\n",
        "c = float ( input ( \"Introduzca el coeficiente c: \" ) ) # Se solicita c\r\n",
        "\r\n",
        "#============================= Cálculo e impresión =============================\r\n",
        "\r\n",
        "dis=b**2-4*a*c # Se calcula el discriminante de la fórmula\r\n",
        "\r\n",
        "if ( dis < 0 ):\r\n",
        "\r\n",
        "  print ( \"La ecuación no tiene raíces reales\" ) \r\n",
        "\r\n",
        "else:\r\n",
        "\r\n",
        "  root1=root1(a,b,c)\r\n",
        "  root2=root2(a,b,c)\r\n",
        "\r\n",
        "  print ( \" \" )\r\n",
        "  print ( \"Las raíces de la ecuación\", a , \"x^2 +\", b , \"x +\", c ,\"=0 son:\" )\r\n",
        "  print ( \" - x1=\", root1 ) # Imprimimos la primera raíz\r\n",
        "  print ( \" - x2=\", root2 ) # Imprimimos la segunda raíz\r\n",
        "\r\n",
        "  print ( \" \" )\r\n",
        "  print ( \"Las raíces a dos decimales son:\" )\r\n",
        "  print ( \" - x1= {:.2f}\".format(root1) )\r\n",
        "  print ( \" - x2= {:.2f}\".format(root2) )"
      ],
      "execution_count": null,
      "outputs": []
    },
    {
      "cell_type": "markdown",
      "metadata": {
        "id": "gYiJc9yWdGkE"
      },
      "source": [
        "***`Ejercicio 3:`*** *`Implementar el método Babilonio (o Método de Herón), para calcular la raíz cuadrada de un número S, cuando la sucesión converja con un error menor a 0.01. Compare con el valor obtenido por el método Babilonio con el valor de la función np.sqrt(S).`*\r\n",
        "\r\n",
        "$x_{0}\\approx\\sqrt{S}$\r\n",
        "\r\n",
        "$x_{n+1}=\\frac{1}{2}[x_{n}+\\frac{S}{x_{n}}]$\r\n",
        "\r\n",
        "$\\lim\\limits_{x\\to\\infty}x_{n}=\\sqrt{S}$"
      ]
    },
    {
      "cell_type": "code",
      "metadata": {
        "id": "O18Ts5N1dQmw"
      },
      "source": [
        "#=============== Sección para la calculadora de raíces cuadradas ===============\r\n",
        "#======================= Información acerca del programa =======================\r\n",
        "\r\n",
        "print ( \"Este programa tiene la función de calcular la raíz cuadrada de un \" )\r\n",
        "print ( \"número ´S´ mediante el método Babilonio, o método de Herón\" )\r\n",
        "print ( \" \" )\r\n",
        "S = float ( input ( \"Introduzca el número S que desee: \" ) )\r\n",
        "\r\n",
        "#============================= Cálculo e impresión =============================\r\n",
        "\r\n",
        "x0 = np.sqrt (S)\r\n",
        "E = 1\r\n",
        "\r\n",
        "print ( \"La aproximación (aproximación 0) de sqrt(\", S, \") es\" )\r\n",
        "print ( \"x 0 = {:.50f}\".format(x0) )\r\n",
        "\r\n",
        "for i in range (1,1000):\r\n",
        "  x = (1/2)*( x0 + (S/x0) )\r\n",
        "  E = abs ( x - x0 )\r\n",
        "  x0 = x\r\n",
        "  print ( \" \" )\r\n",
        "  print ( \"Aproximación\", i )\r\n",
        "  print ( \"x\",i,\"= {:.50f}\".format(x0) )\r\n",
        "  print ( \"E\", i, \"=\", E )\r\n",
        "\r\n",
        "  if ( E < 0.01 ):\r\n",
        "    break "
      ],
      "execution_count": null,
      "outputs": []
    },
    {
      "cell_type": "markdown",
      "metadata": {
        "id": "wVWkqnzBSg4L"
      },
      "source": [
        "***`Ejercicio 4:`*** *`Reproduce la figura que aparece inmediatamente abajo en el artículo de Wikipedia sobre Series de Taylor, que muestra la aproximación de la función ln(1+x) alrededor de x=0.`*\r\n",
        "\r\n",
        "$ln{(1+x)}=\\displaystyle\\sum_{n=1}^{\\infty}(-1)^{n+1}\\frac{x^{n}}{n}=x-\\frac{x^{2}}{2}+\\frac{x^{3}}{3}-..., para -1 \\leq x \\leq 1$"
      ]
    },
    {
      "cell_type": "code",
      "metadata": {
        "colab": {
          "base_uri": "https://localhost:8080/",
          "height": 312
        },
        "id": "52wJNv60NQFL",
        "outputId": "df10dd7a-bff4-4754-bf3f-c8d2b8882ef1"
      },
      "source": [
        "import numpy as np              # Importamos las bibliotecas\r\n",
        "import matplotlib.pyplot as plt\r\n",
        "\r\n",
        "x=np.linspace(-1.5,1.5,100)     \r\n",
        "\r\n",
        "#=============================== Serie de Taylor ===============================\r\n",
        "\r\n",
        "def sT(n):                      # Definimos la función \r\n",
        "  return (-1)**(n+1)*((x**n)/n) # Para el n-ésimo término\r\n",
        "                                # sT = *s*erie de *T*aylor \r\n",
        "\r\n",
        "#============================== Taylor de Grado 4 ==============================\r\n",
        "\r\n",
        "#print ( \"Taylor de Grado 4\" )\r\n",
        "n4 = int(4)\r\n",
        "sTaux4=0.0 # Termino auxiliar \r\n",
        "\r\n",
        "for i in range(1,n4+1,1):\r\n",
        "  sT4=sTaux4+sT(i)        # Calculamos el i-ésimo+1 término\r\n",
        "  sTaux4=sT4              # El i-ésimo+1 término se convierte en el auxiliar\r\n",
        "  #print (sT4)\r\n",
        "\r\n",
        "#============================== Taylor de Grado 7 ==============================\r\n",
        "\r\n",
        "#print ( \"Taylor de Grado 7\" )\r\n",
        "n7 = 7\r\n",
        "sTaux7=0.0 # Termino auxiliar\r\n",
        "\r\n",
        "for i in range(1,n7+1,1):\r\n",
        "  sT7=sTaux7+sT(i)        # Calculamos el i-ésimo+1 término\r\n",
        "  sTaux7=sT7              # El i-ésimo+1 término se convierte en el auxiliar\r\n",
        "  #print (sT7)\r\n",
        "\r\n",
        "#============================== Taylor de Grado 11 =============================\r\n",
        "\r\n",
        "#print ( \"Taylor de Grado 11\" )\r\n",
        "n11 = 11\r\n",
        "sTaux11=0.0 # Termino auxiliar\r\n",
        "\r\n",
        "for i in range(1,n11+1,1):\r\n",
        "  sT11=sTaux11+sT(i)       # Calculamos el i-ésimo+1 término\r\n",
        "  sTaux11=sT11             # El i-ésimo+1 término se convierte en el auxiliar\r\n",
        "  #print (sT11)\r\n",
        "\r\n",
        "#============================== Taylor de Grado 16 =============================\r\n",
        "\r\n",
        "#print ( \"Taylor de Grado 16\" )\r\n",
        "n16 = 16\r\n",
        "sTaux16=0.0\r\n",
        "\r\n",
        "for i in range(1,n16+1,1):\r\n",
        "  sT16=sTaux16+sT(i)       # Calculamos el i-ésimo+1 término\r\n",
        "  sTaux16=sT16             # El i-ésimo+1 término se convierte en el auxiliar\r\n",
        "  #print (sT16)\r\n",
        "\r\n",
        "#=================== Graficación de los Polinomios de Taylor ===================\r\n",
        "\r\n",
        "#Haciendo el sistema de coordenadas\r\n",
        "plt.subplot(111)\r\n",
        "plt.xlabel(\"$x$\")\r\n",
        "plt.ylabel(\"$y$\")\r\n",
        "plt.title(\"Aproximación de y=ln(1+x)\")\r\n",
        "plt.grid(True) # Agregar una malla\r\n",
        "plt.ylim(-4, 2) # Fijar los límites en el eje Y\r\n",
        "\r\n",
        "#Graficando:\r\n",
        "plt.plot(x,sT4, label=\"$T_4$\") # Taylor de Grado 4\r\n",
        "plt.plot(x,sT7, label=\"$T_7$\") # Taylor de Grado 7\r\n",
        "plt.plot(x,sT11, label=\"$T_{11}$\") # Taylor de Grado 11\r\n",
        "plt.plot(x,sT16, label=\"$T_{16}$\") # Taylor de Grado 16\r\n",
        "plt.plot(x,np.log(1+x), label=\"$ln(1+x)$\") # Función a Aproximar\r\n",
        "\r\n",
        "plt.legend(bbox_to_anchor=(1,1), loc=\"upper left\") # Ubicación de las etiquetas\r\n",
        "\r\n",
        "plt.show()\r\n",
        "\r\n",
        "# plt.savefig('Actividad 2 Ejercicio 4.png')\r\n",
        "# Si desea guardar la gráfica, retire el \"#\" de la línea de arriba"
      ],
      "execution_count": null,
      "outputs": [
        {
          "output_type": "stream",
          "text": [
            "/usr/local/lib/python3.6/dist-packages/ipykernel_launcher.py:71: RuntimeWarning: invalid value encountered in log\n"
          ],
          "name": "stderr"
        },
        {
          "output_type": "display_data",
          "data": {
            "image/png": "[encoded data removed]",
            "text/plain": [
              "<Figure size 432x288 with 1 Axes>"
            ]
          },
          "metadata": {
            "tags": [],
            "needs_background": "light"
          }
        }
      ]
    }
  ]
}