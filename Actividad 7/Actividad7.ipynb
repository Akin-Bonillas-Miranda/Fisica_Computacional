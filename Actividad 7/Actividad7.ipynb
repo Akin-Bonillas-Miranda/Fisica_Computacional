{
  "nbformat": 4,
  "nbformat_minor": 0,
  "metadata": {
    "colab": {
      "name": "Actividad7.ipynb",
      "provenance": []
    },
    "kernelspec": {
      "name": "python3",
      "display_name": "Python 3"
    }
  },
  "cells": [
    {
      "cell_type": "markdown",
      "metadata": {
        "id": "ikT2cw83roz0"
      },
      "source": [
        "***`Universidad de Sonora, Campus Hermosillo`***\r\n",
        "\r\n",
        "---\r\n",
        "\r\n",
        "***`Profesor: `*** *`Lizarraga Celaya Carlos`*\r\n",
        "\r\n",
        "***`Materia: `*** *`Física Computacional`*\r\n",
        "\r\n",
        "---\r\n",
        "\r\n",
        "***`Trabajo: `*** *`Actividad 7`*\r\n",
        "\r\n",
        "---\r\n",
        "\r\n",
        "***`Alumno: `*** *`Bonillas Miranda Akin`*\r\n",
        "\r\n",
        "***`Número de Expediente: `*** *`219211360`*\r\n",
        "\r\n",
        "***`Correo: `*** *`a219211360@unison.mx // akinbonillasmiranda@gmail.com`*\r\n",
        "\r\n",
        "***`Número Telefónico: `*** *`662 368 2474`*\r\n",
        "\r\n",
        "---\r\n",
        "\r\n",
        "***`Grupo: `*** *`2`*\r\n",
        "\r\n",
        "***`Carrera: `*** *`Licenciatura en Física`*\r\n",
        "\r\n",
        "***`Semestre: `*** *`Cuarto Semestre`*\r\n",
        "\r\n",
        "---\r\n",
        "\r\n",
        "***`Viernes 05 de Marzo de 2021, Hermosillo, Sonora`***"
      ]
    },
    {
      "cell_type": "markdown",
      "metadata": {
        "id": "3SPmHSCSr9JL"
      },
      "source": [
        "."
      ]
    },
    {
      "cell_type": "markdown",
      "metadata": {
        "id": "wz7j6N-ar-mM"
      },
      "source": [
        "# ***`Ejercicio 1:`***"
      ]
    },
    {
      "cell_type": "code",
      "metadata": {
        "id": "kEbcV6FkugRc"
      },
      "source": [
        "#=============== IMPORTAMOS BIBLIOTECAS PARA HACER ÁLGEBRA LINEAL ==============\r\n",
        "\r\n",
        "import numpy as np\r\n",
        "import scipy.linalg as la\r\n",
        "from numpy.linalg import matrix_power as mpow\r\n",
        "import matplotlib.pyplot as plt"
      ],
      "execution_count": 40,
      "outputs": []
    },
    {
      "cell_type": "markdown",
      "metadata": {
        "id": "tx7VErClsCbo"
      },
      "source": [
        "***`Defina las siguientes matrices:`***\r\n",
        "\r\n",
        "\\begin{equation*}\r\n",
        " A\r\n",
        " =\r\n",
        "  \\begin{bmatrix}\r\n",
        "   1 & 3 \\\\\r\n",
        "   -1 & 7\r\n",
        "   \\end{bmatrix}\r\n",
        "\\end{equation*}\r\n",
        "\r\n",
        "\\begin{equation*}\r\n",
        " B =\r\n",
        "  \\begin{bmatrix}\r\n",
        "   5 & 2 \\\\\r\n",
        "   1 & 2\r\n",
        "   \\end{bmatrix}\r\n",
        "\\end{equation*}\r\n",
        "\r\n",
        "*` y la matrix identidad`* \r\n",
        "\r\n",
        " \\begin{equation*}\r\n",
        " I = \r\n",
        "   \\begin{bmatrix}\r\n",
        "   1 & 0 \\\\\r\n",
        "   0 & 1\r\n",
        "   \\end{bmatrix}\r\n",
        "\\end{equation*}\r\n"
      ]
    },
    {
      "cell_type": "code",
      "metadata": {
        "colab": {
          "base_uri": "https://localhost:8080/"
        },
        "id": "47u-IaGpq0a_",
        "outputId": "59c44df8-8ce7-4a1f-8f0b-10d6b407ee8e"
      },
      "source": [
        "#=================================== MATRIZ A ==================================\r\n",
        "\r\n",
        "A = np.array( [[1,3],[-1,7]] )\r\n",
        "\r\n",
        "print( A, \" = A\" ) \r\n",
        "print( \" \" )\r\n",
        "\r\n",
        "\r\n",
        "#=================================== MATRIZ B ==================================\r\n",
        "\r\n",
        "B = np.array( [[5,2],[1,2]] )\r\n",
        "\r\n",
        "print( B, \" = B\" ) \r\n",
        "print( \" \" )\r\n",
        "\r\n",
        "\r\n",
        "#=================================== MATRIZ I ==================================\r\n",
        "\r\n",
        "# I = np.array( [[1,0],[0,1]] )\r\n",
        "I = np.eye(2, dtype=int)\r\n",
        "\r\n",
        "print( I, \" = I\" ) \r\n",
        "print( \" \" )\r\n"
      ],
      "execution_count": 41,
      "outputs": [
        {
          "output_type": "stream",
          "text": [
            "[[ 1  3]\n",
            " [-1  7]]  = A\n",
            " \n",
            "[[5 2]\n",
            " [1 2]]  = B\n",
            " \n",
            "[[1 0]\n",
            " [0 1]]  = I\n",
            " \n"
          ],
          "name": "stdout"
        }
      ]
    },
    {
      "cell_type": "markdown",
      "metadata": {
        "id": "fRp0zT35xjao"
      },
      "source": [
        "*`Calcule el resultado de `* $2*I+3*A+A@B$.\r\n",
        "\r\n",
        "*`Para definir la matriz identidad, se puede utilizar la función *np.eye(2, dtype=int). Ver manual de`*[*`np.eye()`*](https://numpy.org/doc/stable/reference/generated/numpy.eye.html)."
      ]
    },
    {
      "cell_type": "code",
      "metadata": {
        "colab": {
          "base_uri": "https://localhost:8080/"
        },
        "id": "kfFVfsOYxnji",
        "outputId": "13d85b0b-e714-4179-dee0-b24be7f119d9"
      },
      "source": [
        "#===================== CALCULAMOS LA MATRIZ R (RESULTANTE) =====================\r\n",
        "\r\n",
        "R = 2*I+3*A+A@B\r\n",
        "\r\n",
        "print( R, \" =R\" )"
      ],
      "execution_count": 42,
      "outputs": [
        {
          "output_type": "stream",
          "text": [
            "[[13 17]\n",
            " [-1 35]]  =R\n"
          ],
          "name": "stdout"
        }
      ]
    },
    {
      "cell_type": "markdown",
      "metadata": {
        "id": "0HmVcC-K4M0z"
      },
      "source": [
        "# ***`Ejercicio 2: `***"
      ]
    },
    {
      "cell_type": "markdown",
      "metadata": {
        "id": "snoAhK-65thY"
      },
      "source": [
        "*`Los polinomios característicos y el Teorema de Cayley-Hamilton.`*\r\n",
        "\r\n",
        "*`El polinomio característico de una matriz M esta dado en general por la ecuación `*\r\n",
        "\\begin{equation}\r\n",
        "\\det(M - \\lambda I) = 0\r\n",
        "\\end{equation}\r\n",
        "*`Para una matriz cuadrada M (2x2), el polinomio característico se puede escribir como`*\r\n",
        "\\begin{equation}\r\n",
        "P_2 (\\lambda) = \\det{(M)} - \\mathrm{tr \\,}(M) \\, \\lambda + \\lambda^2   \r\n",
        "\\end{equation}\r\n",
        "*`y para una matriz cuadrada M (3x3), el polinomio característico resulta ser`*\r\n",
        "\r\n",
        "\\begin{equation}\r\n",
        "P_3 (\\lambda) = \\frac{1}{6} \r\n",
        "\\left[ \\mathrm{tr}^3 (M) + 2 \\, \\mathrm{tr }(M^3) - 3 \\, \\mathrm{tr}(M) \\mathrm{tr}(M^2) \\right] - \r\n",
        "\\frac{1}{2} \\left[ \\mathrm{tr}^2 (M) - \\mathrm{tr}(M^2) \\right] \\lambda + \\mathrm{tr}(M) \\lambda^2 - \\lambda^3\r\n",
        "\\end{equation}\r\n",
        "\r\n",
        "[*`El Teorema de Cayley-Hamilton`*](https://en.wikipedia.org/wiki/Cayley–Hamilton_theorem) *`nos dice que una matriz cuadrada M (2x2), satisface el polinomio característico`*\r\n",
        "\\begin{equation}\r\n",
        "P_2(M) = \\det(M) - \\mathrm{tr}(M) M + M^2 \r\n",
        "\\end{equation}\r\n",
        "*`y en general cualquier matriz cuadrada M (nxn), satisface`* $P_n(M)$. \r\n",
        "\r\n",
        "*`Demuestre esto para cualquier matriz M (2x2),`*  ($\\det(M) \\neq 0$)."
      ]
    },
    {
      "cell_type": "code",
      "metadata": {
        "id": "_aXnVAfkCppR"
      },
      "source": [
        "#==================== DEFINIMOS EL POLINOMIO CARACTERÍSTICO ====================\r\n",
        "\r\n",
        "def P2( M ):\r\n",
        "  P2 = la.det( M )*np.eye(2, dtype=int) - np.trace( M )*M + mpow( M, 2 )\r\n",
        "\r\n",
        "  print( P2, \" = P2(A) \" )"
      ],
      "execution_count": null,
      "outputs": []
    },
    {
      "cell_type": "code",
      "metadata": {
        "colab": {
          "base_uri": "https://localhost:8080/"
        },
        "id": "n6njkUd9FRTg",
        "outputId": "29cde782-c8c9-4666-ba19-6101a08af190"
      },
      "source": [
        "7#===================== SOLICITAMOS LOS VALORES DE LA MATRZ =====================\r\n",
        "\r\n",
        "print ( \"Por favor, introduzca los valores de la matriz en orden de filas.\" )\r\n",
        "\r\n",
        "a = float( input( \"¿Cuál es el valor de a?: \" ) )\r\n",
        "b = float( input( \"¿Cuál es el valor de b?: \" ) )\r\n",
        "c = float( input( \"¿Cuál es el valor de c?: \" ) )\r\n",
        "d = float( input( \"¿Cuál es el valor de d?: \" ) )\r\n",
        "print ( \" \" )\r\n",
        "\r\n",
        "A = np.array( [[a,b],[c,d]] )\r\n",
        "\r\n",
        "print( A, \" = A\" )"
      ],
      "execution_count": null,
      "outputs": [
        {
          "output_type": "stream",
          "text": [
            "Por favor, introduzca los valores de la matriz en orden de filas.\n",
            "¿Cuál es el valor de a?: 2\n",
            "¿Cuál es el valor de b?: 7\n",
            "¿Cuál es el valor de c?: 10\n",
            "¿Cuál es el valor de d?: 4\n",
            " \n",
            "[[ 2.  7.]\n",
            " [10.  4.]]  = A\n"
          ],
          "name": "stdout"
        }
      ]
    },
    {
      "cell_type": "code",
      "metadata": {
        "colab": {
          "base_uri": "https://localhost:8080/"
        },
        "id": "m2AC_CeQGYQ1",
        "outputId": "021c6911-0144-42a2-8bc9-76467d3b6104"
      },
      "source": [
        "#============================= TOMAMOS LA DESICIÓN =============================\r\n",
        "\r\n",
        "detA = la.det( A )\r\n",
        "\r\n",
        "if detA == 0 :\r\n",
        "  print( \"det( A )= \", detA )\r\n",
        "  print ( \"No se puede calcular el polinómio característica ya que el determinante de la matriz es 0\" )\r\n",
        "\r\n",
        "else:\r\n",
        "  print( \"det( A )= \", detA )\r\n",
        "  print( \" \" )\r\n",
        "  P2A = P2( A )\r\n"
      ],
      "execution_count": null,
      "outputs": [
        {
          "output_type": "stream",
          "text": [
            "det( A )=  -62.0\n",
            " \n",
            "[[0. 0.]\n",
            " [0. 0.]]  = P2(A) \n"
          ],
          "name": "stdout"
        }
      ]
    },
    {
      "cell_type": "markdown",
      "metadata": {
        "id": "wiw_q1mzNFbB"
      },
      "source": [
        "# ***`Ejercicio 3:`***"
      ]
    },
    {
      "cell_type": "markdown",
      "metadata": {
        "id": "Z_QlJxsVOvlv"
      },
      "source": [
        "*`Resuelva el sistema de ecuaciones.`*\r\n",
        "\r\n",
        "\\begin{eqnarray*}\r\n",
        "x - 3 y + z & = & 1 \\\\ \\nonumber\r\n",
        "3 x - 4y + z & = & 5 \\\\ \\nonumber\r\n",
        "2 y - z & = & 0 \\\\ \\nonumber\r\n",
        "\\end{eqnarray*}\r\n",
        "\r\n",
        "*`utilizando el Método de Eliminación Gaussiana y la función scipy.linalg.solve()`*"
      ]
    },
    {
      "cell_type": "code",
      "metadata": {
        "id": "QC37r8ZTPeyg"
      },
      "source": [
        "#=================== REDUCCIÓN DE GAUSS: CAMBIO DE RENGLONES ===================\r\n",
        "\r\n",
        "def INTER( M, i, j ):\r\n",
        "    print( \"Intercambiar renglones i y j en la matriz M\" )\r\n",
        "\r\n",
        "    n = M.shape[0]\r\n",
        "    E = np.eye(n)\r\n",
        "    E[ i, i ] = 0\r\n",
        "    E[ j, j ] = 0\r\n",
        "    E[ i, j ] = 1\r\n",
        "    E[ j, i ] = 1\r\n",
        "    return E @ M"
      ],
      "execution_count": null,
      "outputs": []
    },
    {
      "cell_type": "code",
      "metadata": {
        "id": "6-l2yolldHWT"
      },
      "source": [
        "#============== ELIMINACIÓN DE GAUSS: MULTIPLICACIÓN DE RENGLONES ==============\r\n",
        "\r\n",
        "def MULTI( M, k, i ):\r\n",
        "    print( \"Multiplicar el renglón i por k en la matriz M\" )\r\n",
        "\r\n",
        "    n = M.shape[0]\r\n",
        "    E = np.eye(n)\r\n",
        "    E[ i, i ] = k\r\n",
        "    return E @ M"
      ],
      "execution_count": null,
      "outputs": []
    },
    {
      "cell_type": "code",
      "metadata": {
        "id": "uIjnvZSkeaPL"
      },
      "source": [
        "#=================== ELIMINACIÓN DE GAUSS: SUMA DE RENGLONES ===================\r\n",
        "\r\n",
        "def SUMAR( M, k, i, j ):\r\n",
        "    print( \"Sumar k veces el renglón j al renglón i en la matriz M\" )\r\n",
        "\r\n",
        "    n = M.shape[0]\r\n",
        "    E = np.eye(n)\r\n",
        "    if i == j:\r\n",
        "        E[ i, i ] = k + 1\r\n",
        "    else:\r\n",
        "        E[ i, j ] = k\r\n",
        "    return E @ M"
      ],
      "execution_count": null,
      "outputs": []
    },
    {
      "cell_type": "code",
      "metadata": {
        "colab": {
          "base_uri": "https://localhost:8080/"
        },
        "id": "-rg0dyRqhBLW",
        "outputId": "6c8c7c4d-9078-4341-b25b-79b4034edb59"
      },
      "source": [
        "#======================== SITEMA DE ECUACIONES A MATRIZ ========================\r\n",
        "\r\n",
        "  # Eq 1:  x - 3y +  z = 1 (0)\r\n",
        "  # Eq 2: 3x - 4y +  z = 5 (1)\r\n",
        "  # Eq 3:      2y -  z = 0 (2)\r\n",
        "\r\n",
        "M = np.array( [ [ 1., -3., 1. ], [ 3., -4., 1. ], [ 0., 2., -1. ] ] )\r\n",
        "print( M, \" = M\" )\r\n",
        "print( \" \" )\r\n",
        "print( \"det(M) = \", la.det(M) )\r\n",
        "\r\n",
        "#==================== IMPRIMIMOS LA MATRIZ M AUMENTADO CON I ===================\r\n",
        "\r\n",
        "MI = np.hstack( [ M, np.eye( 3 ) ] )\r\n",
        "print( \" \" )\r\n",
        "print( MI, \" = MI\" )"
      ],
      "execution_count": null,
      "outputs": [
        {
          "output_type": "stream",
          "text": [
            "[[ 1. -3.  1.]\n",
            " [ 3. -4.  1.]\n",
            " [ 0.  2. -1.]]  = M\n",
            " \n",
            "det(M) =  -1.0000000000000004\n",
            " \n",
            "[[ 1. -3.  1.  1.  0.  0.]\n",
            " [ 3. -4.  1.  0.  1.  0.]\n",
            " [ 0.  2. -1.  0.  0.  1.]]  = MI\n"
          ],
          "name": "stdout"
        }
      ]
    },
    {
      "cell_type": "code",
      "metadata": {
        "colab": {
          "base_uri": "https://localhost:8080/"
        },
        "id": "m3vBQW47ixH2",
        "outputId": "7c6f6b02-14ba-48d2-af10-2c48c7444125"
      },
      "source": [
        "#======================== PRIMER PASO DE GAUSS - JORDAN ========================\r\n",
        "\r\n",
        "  # L1:   1  - 3    1  (0) # 3*L1 + L2 ==> L2\r\n",
        "  # L2:   2  - 4    1  (1) # \r\n",
        "\r\n",
        "MI1 = SUMAR( MI, -3, 1, 0 )\r\n",
        "\r\n",
        "print( MI1 )"
      ],
      "execution_count": null,
      "outputs": [
        {
          "output_type": "stream",
          "text": [
            "Sumar k veces el renglón j al renglón i en la matriz M\n",
            "[[ 1. -3.  1.  1.  0.  0.]\n",
            " [ 0.  5. -2. -3.  1.  0.]\n",
            " [ 0.  2. -1.  0.  0.  1.]]\n"
          ],
          "name": "stdout"
        }
      ]
    },
    {
      "cell_type": "code",
      "metadata": {
        "colab": {
          "base_uri": "https://localhost:8080/"
        },
        "id": "Si9RN7ZvzZWI",
        "outputId": "f4dbf0c7-cbbc-4113-ea19-6735a64662be"
      },
      "source": [
        "#======================== SEGUNDO PASO DE GAUSS - JORDAN =======================\r\n",
        "\r\n",
        " # L2:   0    5  - 2  (1) # (-2/5)*L2 + L3 ==> L3\r\n",
        " # L3:   0    2  - 1  (2) #\r\n",
        "\r\n",
        "MI2 = SUMAR( MI1, -2/5, 2, 1 )\r\n",
        "\r\n",
        "print( MI2 )\r\n",
        "print( \" \" )\r\n",
        "\r\n",
        "#-------------------------------------------------------------------------------\r\n",
        "\r\n",
        "MI2int = MULTI ( MI2, -5, 2 )\r\n",
        "\r\n",
        "print( MI2int )\r\n",
        "print( \" \" )\r\n",
        "\r\n",
        "MI2int2 = MULTI ( MI2int, -5, 0 )\r\n",
        "\r\n",
        "print( MI2int2 )\r\n",
        "print( \" \" )\r\n",
        "\r\n",
        "#-------------------------------------------------------------------------------\r\n",
        "\r\n",
        " # L1: - 5   15  - 5  (0) # -3*L2 + L1 ==> L1\r\n",
        " # L2:   0    5  - 2  (1) #\r\n",
        "\r\n",
        "MI3 = SUMAR( MI2int2, -3, 0, 1 )\r\n",
        "\r\n",
        "print( MI3 )\r\n",
        "print( \" \" )"
      ],
      "execution_count": null,
      "outputs": [
        {
          "output_type": "stream",
          "text": [
            "Sumar k veces el renglón j al renglón i en la matriz M\n",
            "[[ 1.  -3.   1.   1.   0.   0. ]\n",
            " [ 0.   5.  -2.  -3.   1.   0. ]\n",
            " [ 0.   0.  -0.2  1.2 -0.4  1. ]]\n",
            " \n",
            "Multiplicar el renglón i por k en la matriz M\n",
            "[[ 1. -3.  1.  1.  0.  0.]\n",
            " [ 0.  5. -2. -3.  1.  0.]\n",
            " [ 0.  0.  1. -6.  2. -5.]]\n",
            " \n",
            "Multiplicar el renglón i por k en la matriz M\n",
            "[[-5. 15. -5. -5.  0.  0.]\n",
            " [ 0.  5. -2. -3.  1.  0.]\n",
            " [ 0.  0.  1. -6.  2. -5.]]\n",
            " \n",
            "Sumar k veces el renglón j al renglón i en la matriz M\n",
            "[[-5.  0.  1.  4. -3.  0.]\n",
            " [ 0.  5. -2. -3.  1.  0.]\n",
            " [ 0.  0.  1. -6.  2. -5.]]\n",
            " \n"
          ],
          "name": "stdout"
        }
      ]
    },
    {
      "cell_type": "code",
      "metadata": {
        "colab": {
          "base_uri": "https://localhost:8080/"
        },
        "id": "xovIY4fxG0TT",
        "outputId": "62fa086a-cf61-43d1-eb6c-e72163aeb9db"
      },
      "source": [
        "#======================== TERCER PASO DE GAUSS - JORDAN ========================\r\n",
        "\r\n",
        " # L3:   0    0    1  (2) # 2*L3 ==> L3\r\n",
        "\r\n",
        "MI3int = MULTI ( MI3, 2, 2 )\r\n",
        "\r\n",
        "print( MI3int )\r\n",
        "print( \" \" )\r\n",
        "\r\n",
        "#-------------------------------------------------------------------------------\r\n",
        "\r\n",
        " # L2:   0    5  - 2  (1) # L3 + L2 ==> L2\r\n",
        " # L3:   0    0    2  (2) #\r\n",
        "\r\n",
        "MI4 = SUMAR( MI3int, 1, 1, 2 )\r\n",
        "\r\n",
        "print( MI4 )\r\n",
        "print( \" \" )\r\n",
        "\r\n",
        "#-------------------------------------------------------------------------------\r\n",
        "\r\n",
        " # L3:   0    0    2  (2) # 1/2*L3 ==> L3\r\n",
        "\r\n",
        "MI4int = MULTI ( MI4, 1/2, 2 )\r\n",
        "\r\n",
        "print( MI4int )\r\n",
        "print( \" \" )\r\n",
        "\r\n",
        "#-------------------------------------------------------------------------------\r\n",
        "\r\n",
        " # L1: - 5    0    1  (0) # -1*L3 + L1 ==> L1\r\n",
        " # L2:   0    5    0  (1) #\r\n",
        " # L3:   0    0    1  (2) #\r\n",
        "\r\n",
        "MI5 = SUMAR( MI4int, -1, 0, 2 )\r\n",
        "\r\n",
        "print( MI5 )\r\n",
        "print( \" \" )\r\n",
        "\r\n",
        "#-------------------------------------------------------------------------------\r\n",
        "\r\n",
        " # L1: - 5    0    0  (0) # (-1/5)*L1 ==> L1\r\n",
        " # L2:   0    5    0  (1) # ( 1/5)*L2 ==> L2\r\n",
        " # L3:   0    0    1  (2) #\r\n",
        "\r\n",
        "MI6 = MULTI ( MI5, -1/5, 0 )\r\n",
        "\r\n",
        "print( MI6 )\r\n",
        "print( \" \" )\r\n",
        "\r\n",
        "MI7 = MULTI ( MI6, 1/5, 1 )\r\n",
        "\r\n",
        "print( MI7 )\r\n",
        "print( \" \" )"
      ],
      "execution_count": null,
      "outputs": [
        {
          "output_type": "stream",
          "text": [
            "Multiplicar el renglón i por k en la matriz M\n",
            "[[ -5.   0.   1.   4.  -3.   0.]\n",
            " [  0.   5.  -2.  -3.   1.   0.]\n",
            " [  0.   0.   2. -12.   4. -10.]]\n",
            " \n",
            "Sumar k veces el renglón j al renglón i en la matriz M\n",
            "[[-5.0000000e+00  0.0000000e+00  1.0000000e+00  4.0000000e+00\n",
            "  -3.0000000e+00  0.0000000e+00]\n",
            " [ 0.0000000e+00  5.0000000e+00 -4.4408921e-16 -1.5000000e+01\n",
            "   5.0000000e+00 -1.0000000e+01]\n",
            " [ 0.0000000e+00  0.0000000e+00  2.0000000e+00 -1.2000000e+01\n",
            "   4.0000000e+00 -1.0000000e+01]]\n",
            " \n",
            "Multiplicar el renglón i por k en la matriz M\n",
            "[[-5.0000000e+00  0.0000000e+00  1.0000000e+00  4.0000000e+00\n",
            "  -3.0000000e+00  0.0000000e+00]\n",
            " [ 0.0000000e+00  5.0000000e+00 -4.4408921e-16 -1.5000000e+01\n",
            "   5.0000000e+00 -1.0000000e+01]\n",
            " [ 0.0000000e+00  0.0000000e+00  1.0000000e+00 -6.0000000e+00\n",
            "   2.0000000e+00 -5.0000000e+00]]\n",
            " \n",
            "Sumar k veces el renglón j al renglón i en la matriz M\n",
            "[[-5.00000000e+00  0.00000000e+00  2.22044605e-16  1.00000000e+01\n",
            "  -5.00000000e+00  5.00000000e+00]\n",
            " [ 0.00000000e+00  5.00000000e+00 -4.44089210e-16 -1.50000000e+01\n",
            "   5.00000000e+00 -1.00000000e+01]\n",
            " [ 0.00000000e+00  0.00000000e+00  1.00000000e+00 -6.00000000e+00\n",
            "   2.00000000e+00 -5.00000000e+00]]\n",
            " \n",
            "Multiplicar el renglón i por k en la matriz M\n",
            "[[ 1.0000000e+00  0.0000000e+00 -4.4408921e-17 -2.0000000e+00\n",
            "   1.0000000e+00 -1.0000000e+00]\n",
            " [ 0.0000000e+00  5.0000000e+00 -4.4408921e-16 -1.5000000e+01\n",
            "   5.0000000e+00 -1.0000000e+01]\n",
            " [ 0.0000000e+00  0.0000000e+00  1.0000000e+00 -6.0000000e+00\n",
            "   2.0000000e+00 -5.0000000e+00]]\n",
            " \n",
            "Multiplicar el renglón i por k en la matriz M\n",
            "[[ 1.0000000e+00  0.0000000e+00 -4.4408921e-17 -2.0000000e+00\n",
            "   1.0000000e+00 -1.0000000e+00]\n",
            " [ 0.0000000e+00  1.0000000e+00 -8.8817842e-17 -3.0000000e+00\n",
            "   1.0000000e+00 -2.0000000e+00]\n",
            " [ 0.0000000e+00  0.0000000e+00  1.0000000e+00 -6.0000000e+00\n",
            "   2.0000000e+00 -5.0000000e+00]]\n",
            " \n"
          ],
          "name": "stdout"
        }
      ]
    },
    {
      "cell_type": "code",
      "metadata": {
        "colab": {
          "base_uri": "https://localhost:8080/"
        },
        "id": "ND0ZAlPAQusV",
        "outputId": "d7833f95-b8f6-49ec-8736-d082ec40b90e"
      },
      "source": [
        "#================================ MATRIZ INVERSA ===============================\r\n",
        "\r\n",
        "print( \"La matriz Inversa de M es: \" )\r\n",
        "print( \" \" )\r\n",
        "\r\n",
        "MInv = MI7[ :, 3:]\r\n",
        "print( MInv, \" = M^(-1)\" )\r\n",
        "print( \" \" )\r\n",
        "\r\n",
        "#-------------------------------------------------------------------------------\r\n",
        "\r\n",
        "print( \"Comprobamos que el producto de M con la Inversa obtenida sea la identidad\" )\r\n",
        "print( \" \" )\r\n",
        "\r\n",
        "Comp = M @ MInv\r\n",
        "print( Comp )\r\n",
        "print( \" \" )\r\n",
        "\r\n",
        "#-------------------------------------------------------------------------------\r\n",
        "\r\n",
        "print( \"Comprobamos el resultado anterior, para la Inversa con valores enteros\" )\r\n",
        "print( \" \" )\r\n",
        "\r\n",
        "Inv = np.array( [ [-2, 1, -1 ], [ -3, 1, -2 ], [ -6, 2, -5 ] ] )\r\n",
        "\r\n",
        "print( Inv, \" = M^(-1)\" )\r\n",
        "print( \" \" )\r\n",
        "\r\n",
        "pro = M @ Inv\r\n",
        "print( pro, \" = I\" )\r\n",
        "print( \" \" )\r\n",
        "\r\n",
        "print( \"Comprobamos el resultado con la función 'la.inv(M)' que nos da la inversa\" )\r\n",
        "print( \" \" )\r\n",
        "\r\n",
        "print( la.inv( M ), \" = M^(-1)\" )"
      ],
      "execution_count": null,
      "outputs": [
        {
          "output_type": "stream",
          "text": [
            "La matriz Inversa de M es: \n",
            " \n",
            "[[-2.  1. -1.]\n",
            " [-3.  1. -2.]\n",
            " [-6.  2. -5.]]  = M^(-1)\n",
            " \n",
            "Comprobamos que el producto de M con la Inversa obtenida sea la identidad\n",
            " \n",
            "[[1.0000000e+00 0.0000000e+00 0.0000000e+00]\n",
            " [8.8817842e-16 1.0000000e+00 0.0000000e+00]\n",
            " [0.0000000e+00 0.0000000e+00 1.0000000e+00]]\n",
            " \n",
            "Comprobamos el resultado anterior, para la Inversa con valores enteros\n",
            " \n",
            "[[-2  1 -1]\n",
            " [-3  1 -2]\n",
            " [-6  2 -5]]  = M^(-1)\n",
            " \n",
            "[[1. 0. 0.]\n",
            " [0. 1. 0.]\n",
            " [0. 0. 1.]]  = I\n",
            " \n",
            "Comprobamos el resultado con la función 'la.inv(M)' que nos da la inversa\n",
            " \n",
            "[[-2.  1. -1.]\n",
            " [-3.  1. -2.]\n",
            " [-6.  2. -5.]]  = M^(-1)\n"
          ],
          "name": "stdout"
        }
      ]
    },
    {
      "cell_type": "code",
      "metadata": {
        "colab": {
          "base_uri": "https://localhost:8080/"
        },
        "id": "2Oc2RNpLVyCZ",
        "outputId": "2f157770-a7c7-4cc8-bb20-34d74ec3690d"
      },
      "source": [
        "#================== VECTOR DE RESULTADOS DEL SISTEMA ORIGINAL ==================\r\n",
        "\r\n",
        "vec = np.array( [ 1, 5, 0 ] ).reshape( 3, 1 )\r\n",
        "print( vec )"
      ],
      "execution_count": null,
      "outputs": [
        {
          "output_type": "stream",
          "text": [
            "[[1]\n",
            " [5]\n",
            " [0]]\n"
          ],
          "name": "stdout"
        }
      ]
    },
    {
      "cell_type": "code",
      "metadata": {
        "colab": {
          "base_uri": "https://localhost:8080/"
        },
        "id": "XL_y0MTUWQh3",
        "outputId": "a80f1086-0793-4345-e76a-ff13a2f3df48"
      },
      "source": [
        "#====================== SOLUCIÓN DEL SISTEMA DE ECUACIONES =====================\r\n",
        "\r\n",
        "res = MInv @ vec\r\n",
        "print( res, \" = b\" )"
      ],
      "execution_count": null,
      "outputs": [
        {
          "output_type": "stream",
          "text": [
            "[[3.]\n",
            " [2.]\n",
            " [4.]]  = b\n"
          ],
          "name": "stdout"
        }
      ]
    },
    {
      "cell_type": "markdown",
      "metadata": {
        "id": "19XZyHo5_tmI"
      },
      "source": [
        "# ***`Ejercicio 4`***"
      ]
    },
    {
      "cell_type": "markdown",
      "metadata": {
        "id": "pLTcZDvbA7D2"
      },
      "source": [
        "*`Dadas las siguientes matrices`* $B_1, B_2$ y $B_3$\r\n",
        "\r\n",
        "([*`Ejemplos del artículo de Wikipedia sobre [Eigenvalores y Eigenvectores`*](https://en.wikipedia.org/wiki/Eigenvalues_and_eigenvectors#Matrix_examples)) \r\n",
        "\r\n",
        "\r\n",
        "\\begin{equation*}\r\n",
        "B_1 = \\begin{bmatrix}\r\n",
        "2 & 0 & 0 \\\\\r\n",
        "0 & 3 & 4 \\\\\r\n",
        "0 & 4 & 9 \\\\\r\n",
        "\\end{bmatrix}\r\n",
        "\\end{equation*}\r\n",
        "\r\n",
        "\\begin{equation*}\r\n",
        "B_2 = \\begin{bmatrix}\r\n",
        "0 & 1 & 0 \\\\\r\n",
        "0 & 0 & 1 \\\\\r\n",
        "1 & 0 & 0 \\\\\r\n",
        "\\end{bmatrix}\r\n",
        "\\end{equation*}\r\n",
        "\r\n",
        "\\begin{equation*}\r\n",
        "B_3 = \\begin{bmatrix}\r\n",
        "2 & 0 & 0 & 0\\\\\r\n",
        "1 & 2 & 0 & 0 \\\\\r\n",
        "0 & 1 & 3 & 0 \\\\\r\n",
        "0 & 0 & 1 & 3 \\\\\r\n",
        "\\end{bmatrix}\r\n",
        "\\end{equation*}\r\n",
        "\r\n",
        "*`Encuentra los eigenvalores y eigenvectores de cada matriz utilizando la función de scipy.linalg.eig(), y contrasta tus resultados en cada caso con los que se desarrollan en los ejemplos de la Wikipedia.`*"
      ]
    },
    {
      "cell_type": "code",
      "metadata": {
        "colab": {
          "base_uri": "https://localhost:8080/"
        },
        "id": "2hxL9k-sBpGz",
        "outputId": "e76ed7b1-819b-4c0f-882c-cb8bfed86ce5"
      },
      "source": [
        "#============================ DEFINIMOS LAS MATRICES ===========================\r\n",
        "\r\n",
        "B1 = np.array( [ [ 2., 0., 0. ], [ 0., 3., 4. ], [ 0., 4., 9. ] ] )\r\n",
        "print( B1 )\r\n",
        "print( \" \" )\r\n",
        "\r\n",
        "B2 = np.array( [ [ 0, 1, 0 ], [ 0, 0, 1 ], [ 1, 0, 0 ] ] )\r\n",
        "print( B2 )\r\n",
        "print( \" \" )\r\n",
        "\r\n",
        "B3 = np.array( [ [ 2, 0, 0, 0 ], [ 1, 2, 0, 0 ], [ 0, 1, 3, 0 ], [ 0, 0, 1, 3 ] ] )\r\n",
        "print( B3 )\r\n",
        "print( \" \" )"
      ],
      "execution_count": null,
      "outputs": [
        {
          "output_type": "stream",
          "text": [
            "[[2. 0. 0.]\n",
            " [0. 3. 4.]\n",
            " [0. 4. 9.]]\n",
            " \n",
            "[[0 1 0]\n",
            " [0 0 1]\n",
            " [1 0 0]]\n",
            " \n",
            "[[2 0 0 0]\n",
            " [1 2 0 0]\n",
            " [0 1 3 0]\n",
            " [0 0 1 3]]\n",
            " \n"
          ],
          "name": "stdout"
        }
      ]
    },
    {
      "cell_type": "code",
      "metadata": {
        "colab": {
          "base_uri": "https://localhost:8080/"
        },
        "id": "EwbdBFf5Ljzo",
        "outputId": "c56693ff-1624-4bb2-fce7-7745412139c1"
      },
      "source": [
        "#================================== MATRIZ B1 ==================================\r\n",
        "\r\n",
        "eigval, eigvec = la.eig( B1)\r\n",
        "\r\n",
        "print( \"Eigenvalores: \" )\r\n",
        "print( eigval )\r\n",
        "print( \" \" )\r\n",
        "print( \"Eigenvectores: \" )\r\n",
        "print( eigvec )\r\n",
        "print( \" \" )\r\n",
        "\r\n",
        "#--------------------------- Los eigenvectores son LI --------------------------\r\n",
        "\r\n",
        "vec1 = eigvec[ :, 0 ]\r\n",
        "vec2 = eigvec[ :, 1 ]\r\n",
        "print( \"Vec1 = \", vec1 )\r\n",
        "print( \"Vec2 = \", vec2 )\r\n",
        "print( \" \" )\r\n",
        "\r\n",
        "#----------------------- Calculamos el producto matricial ----------------------\r\n",
        "#----------------- Calculamos el producto punto de 2 vectore LI ----------------\r\n",
        "\r\n",
        "print( \"Producto matricial : \", vec1@vec2 )\r\n",
        "print( \"Producto escalar : \" , np.dot( vec1, vec2.T ) )"
      ],
      "execution_count": null,
      "outputs": [
        {
          "output_type": "stream",
          "text": [
            "Eigenvalores: \n",
            "[11.+0.j  1.+0.j  2.+0.j]\n",
            " \n",
            "Eigenvectores: \n",
            "[[ 0.          0.          1.        ]\n",
            " [ 0.4472136   0.89442719  0.        ]\n",
            " [ 0.89442719 -0.4472136   0.        ]]\n",
            " \n",
            "Vec1 =  [0.         0.4472136  0.89442719]\n",
            "Vec2 =  [ 0.          0.89442719 -0.4472136 ]\n",
            " \n",
            "Producto matricial :  -1.2594923403361582e-17\n",
            "Producto escalar :  -1.2594923403361582e-17\n"
          ],
          "name": "stdout"
        }
      ]
    },
    {
      "cell_type": "code",
      "metadata": {
        "colab": {
          "base_uri": "https://localhost:8080/"
        },
        "id": "OXTt31iHdEKk",
        "outputId": "e391db99-5ef6-4c3f-98f1-feb2bf1816c5"
      },
      "source": [
        "#================================== MATRIZ B2 ==================================\r\n",
        "\r\n",
        "eigval, eigvec = la.eig( B2 )\r\n",
        "\r\n",
        "print( \"Eigenvalores: \" )\r\n",
        "print( eigval )\r\n",
        "print( \" \" )\r\n",
        "print( \"Eigenvectores: \" )\r\n",
        "print( eigvec )\r\n",
        "print( \" \" )\r\n",
        "\r\n",
        "#--------------------------- Los eigenvectores son LI --------------------------\r\n",
        "\r\n",
        "vec1 = eigvec[ :, 0 ]\r\n",
        "vec2 = eigvec[ :, 1 ]\r\n",
        "print( \"Vec1 = \", vec1 )\r\n",
        "print( \"Vec2 = \", vec2 )\r\n",
        "print( \" \" )\r\n",
        "\r\n",
        "#----------------------- Calculamos el producto matricial ----------------------\r\n",
        "#----------------- Calculamos el producto punto de 2 vectore LI ----------------\r\n",
        "\r\n",
        "print( \"Producto matricial : \", vec1@vec2 )\r\n",
        "print( \"Producto escalar : \" , np.dot( vec1, vec2.T ) )"
      ],
      "execution_count": null,
      "outputs": [
        {
          "output_type": "stream",
          "text": [
            "Eigenvalores: \n",
            "[-0.5+0.8660254j -0.5-0.8660254j  1. +0.j       ]\n",
            " \n",
            "Eigenvectores: \n",
            "[[ 0.57735027+0.j   0.57735027-0.j  -0.57735027+0.j ]\n",
            " [-0.28867513+0.5j -0.28867513-0.5j -0.57735027+0.j ]\n",
            " [-0.28867513-0.5j -0.28867513+0.5j -0.57735027+0.j ]]\n",
            " \n",
            "Vec1 =  [ 0.57735027+0.j  -0.28867513+0.5j -0.28867513-0.5j]\n",
            "Vec2 =  [ 0.57735027-0.j  -0.28867513-0.5j -0.28867513+0.5j]\n",
            " \n",
            "Producto matricial :  (1+0j)\n",
            "Producto escalar :  (1+0j)\n"
          ],
          "name": "stdout"
        }
      ]
    },
    {
      "cell_type": "code",
      "metadata": {
        "colab": {
          "base_uri": "https://localhost:8080/"
        },
        "id": "o5siekvEekM7",
        "outputId": "25144327-1ea2-4178-8512-9b6e9faac951"
      },
      "source": [
        "#================================== MATRIZ B3 ==================================\r\n",
        "\r\n",
        "eigval, eigvec = la.eig( B3 )\r\n",
        "\r\n",
        "print( \"Eigenvalores: \" )\r\n",
        "print( eigval )\r\n",
        "print( \" \" )\r\n",
        "print( \"Eigenvectores: \" )\r\n",
        "print( eigvec )\r\n",
        "print( \" \" )\r\n",
        "\r\n",
        "#--------------------------- Los eigenvectores son LI --------------------------\r\n",
        "\r\n",
        "vec1 = eigvec[ :, 0 ]\r\n",
        "vec2 = eigvec[ :, 1 ]\r\n",
        "vec3 = eigvec[ :, 2 ]\r\n",
        "print( \"Vec1 = \", vec1 )\r\n",
        "print( \"Vec2 = \", vec2 )\r\n",
        "print( \"Vec3 = \", vec3 )\r\n",
        "print( \" \" )\r\n",
        "\r\n",
        "#----------------------- Calculamos el producto matricial ----------------------\r\n",
        "#----------------- Calculamos el producto punto de 2 vectore LI ----------------\r\n",
        "\r\n",
        "print( \"Producto matricial : \", vec1@vec2 )\r\n",
        "print( \"Producto escalar : \" , np.dot( vec1, vec2.T ) )"
      ],
      "execution_count": null,
      "outputs": [
        {
          "output_type": "stream",
          "text": [
            "Eigenvalores: \n",
            "[3.+0.j 3.+0.j 2.+0.j 2.+0.j]\n",
            " \n",
            "Eigenvectores: \n",
            "[[ 0.00000000e+00  0.00000000e+00  0.00000000e+00  2.56395025e-16]\n",
            " [ 0.00000000e+00  0.00000000e+00  5.77350269e-01 -5.77350269e-01]\n",
            " [ 0.00000000e+00  6.66133815e-16 -5.77350269e-01  5.77350269e-01]\n",
            " [ 1.00000000e+00 -1.00000000e+00  5.77350269e-01 -5.77350269e-01]]\n",
            " \n",
            "Vec1 =  [0. 0. 0. 1.]\n",
            "Vec2 =  [ 0.00000000e+00  0.00000000e+00  6.66133815e-16 -1.00000000e+00]\n",
            "Vec3 =  [ 0.          0.57735027 -0.57735027  0.57735027]\n",
            " \n",
            "Producto matricial :  -1.0\n",
            "Producto escalar :  -1.0\n"
          ],
          "name": "stdout"
        }
      ]
    },
    {
      "cell_type": "markdown",
      "metadata": {
        "id": "eiVHkaG6_3-n"
      },
      "source": [
        "# ***`Ejercicio 5`***"
      ]
    },
    {
      "cell_type": "markdown",
      "metadata": {
        "id": "RICl58X0fWfe"
      },
      "source": [
        "*`Se tienen los siguientes 8 puntos: `*\r\n",
        "\r\n",
        "\\begin{eqnarray*} \r\n",
        "(x&,&y) \\\\\r\n",
        "(0.0 &,& 0.0), \\\\ \r\n",
        "(0.5 &,& 0.47942), \\\\ \r\n",
        "(1.0 &,& 0.84147), \\\\\r\n",
        "(1.5 &,& 0.99749), \\\\\r\n",
        "(2.0 &,& 0.90930), \\\\\r\n",
        "(2.5 &,& 0.59847), \\\\\r\n",
        "(3.0 &,& 0.14112), \\\\\r\n",
        "(3.5 &,& -0.35078) \\\\\r\n",
        "\\end{eqnarray*}\r\n",
        "\r\n",
        "*`Encuentre un polinomio interpolante`* $p(x)$ *`que pase por los 8 puntos.`*\r\n",
        "\r\n",
        "*`Sobreponga la función`* $y=\\sin(x)$ *`y contrástela con el polinomio`* $p(x)$."
      ]
    },
    {
      "cell_type": "code",
      "metadata": {
        "colab": {
          "base_uri": "https://localhost:8080/",
          "height": 846
        },
        "id": "IXrUPhcSjOj9",
        "outputId": "e53d605e-b1f8-4f7e-9fe3-a8e6510a9d24"
      },
      "source": [
        "#============================ MATRIZ DE COORDENADAS ============================\r\n",
        "\r\n",
        "coord = np.array( [ [ 0.0, 0.0 ], [ 0.5, 0.47942 ], [ 1.0, 0.84147 ], [ 1.5, 0.99749 ], [ 2.0, 0.90930 ], [ 2.5, 0.59847 ], [ 3.0, 0.14112 ], [ 3.5, -0.35078 ] ] )\r\n",
        "\r\n",
        "print( coord )\r\n",
        "print( \" \" )\r\n",
        "\r\n",
        "y = coord[ :,0 ]\r\n",
        "x = coord[ :, 1]\r\n",
        "\r\n",
        "plt.plot(y,x, \"r.\") \r\n",
        "plt.grid()\r\n",
        "plt.show()"
      ],
      "execution_count": 64,
      "outputs": [
        {
          "output_type": "stream",
          "text": [
            "[[ 0.       0.     ]\n",
            " [ 0.5      0.47942]\n",
            " [ 1.       0.84147]\n",
            " [ 1.5      0.99749]\n",
            " [ 2.       0.9093 ]\n",
            " [ 2.5      0.59847]\n",
            " [ 3.       0.14112]\n",
            " [ 3.5     -0.35078]]\n",
            " \n"
          ],
          "name": "stdout"
        },
        {
          "output_type": "display_data",
          "data": {
            "image/png": "[encoded data removed]",
            "text/plain": [
              "<Figure size 864x864 with 1 Axes>"
            ]
          },
          "metadata": {
            "tags": [],
            "needs_background": "light"
          }
        }
      ]
    },
    {
      "cell_type": "code",
      "metadata": {
        "colab": {
          "base_uri": "https://localhost:8080/"
        },
        "id": "XLGbV1YZl3-Y",
        "outputId": "44a2bcc9-1c90-4e5f-d332-4e9bf3a94aa4"
      },
      "source": [
        "#==================== MATRIZ DE VANDERMONDE DE COORDENADAS X ===================\r\n",
        "\r\n",
        "N = 8\r\n",
        "x = coord[ :, 0 ] \r\n",
        "X = np.column_stack( [ x**k for k in range( 0, N ) ] )\r\n",
        "print( X )\r\n",
        "\r\n",
        "print( \" \" )\r\n",
        "\r\n",
        "X = np.vander(x,increasing=True)\r\n",
        "print(X[:8,:8])"
      ],
      "execution_count": 65,
      "outputs": [
        {
          "output_type": "stream",
          "text": [
            "[[1.00000000e+00 0.00000000e+00 0.00000000e+00 0.00000000e+00\n",
            "  0.00000000e+00 0.00000000e+00 0.00000000e+00 0.00000000e+00]\n",
            " [1.00000000e+00 5.00000000e-01 2.50000000e-01 1.25000000e-01\n",
            "  6.25000000e-02 3.12500000e-02 1.56250000e-02 7.81250000e-03]\n",
            " [1.00000000e+00 1.00000000e+00 1.00000000e+00 1.00000000e+00\n",
            "  1.00000000e+00 1.00000000e+00 1.00000000e+00 1.00000000e+00]\n",
            " [1.00000000e+00 1.50000000e+00 2.25000000e+00 3.37500000e+00\n",
            "  5.06250000e+00 7.59375000e+00 1.13906250e+01 1.70859375e+01]\n",
            " [1.00000000e+00 2.00000000e+00 4.00000000e+00 8.00000000e+00\n",
            "  1.60000000e+01 3.20000000e+01 6.40000000e+01 1.28000000e+02]\n",
            " [1.00000000e+00 2.50000000e+00 6.25000000e+00 1.56250000e+01\n",
            "  3.90625000e+01 9.76562500e+01 2.44140625e+02 6.10351562e+02]\n",
            " [1.00000000e+00 3.00000000e+00 9.00000000e+00 2.70000000e+01\n",
            "  8.10000000e+01 2.43000000e+02 7.29000000e+02 2.18700000e+03]\n",
            " [1.00000000e+00 3.50000000e+00 1.22500000e+01 4.28750000e+01\n",
            "  1.50062500e+02 5.25218750e+02 1.83826562e+03 6.43392969e+03]]\n",
            " \n",
            "[[1.00000000e+00 0.00000000e+00 0.00000000e+00 0.00000000e+00\n",
            "  0.00000000e+00 0.00000000e+00 0.00000000e+00 0.00000000e+00]\n",
            " [1.00000000e+00 5.00000000e-01 2.50000000e-01 1.25000000e-01\n",
            "  6.25000000e-02 3.12500000e-02 1.56250000e-02 7.81250000e-03]\n",
            " [1.00000000e+00 1.00000000e+00 1.00000000e+00 1.00000000e+00\n",
            "  1.00000000e+00 1.00000000e+00 1.00000000e+00 1.00000000e+00]\n",
            " [1.00000000e+00 1.50000000e+00 2.25000000e+00 3.37500000e+00\n",
            "  5.06250000e+00 7.59375000e+00 1.13906250e+01 1.70859375e+01]\n",
            " [1.00000000e+00 2.00000000e+00 4.00000000e+00 8.00000000e+00\n",
            "  1.60000000e+01 3.20000000e+01 6.40000000e+01 1.28000000e+02]\n",
            " [1.00000000e+00 2.50000000e+00 6.25000000e+00 1.56250000e+01\n",
            "  3.90625000e+01 9.76562500e+01 2.44140625e+02 6.10351562e+02]\n",
            " [1.00000000e+00 3.00000000e+00 9.00000000e+00 2.70000000e+01\n",
            "  8.10000000e+01 2.43000000e+02 7.29000000e+02 2.18700000e+03]\n",
            " [1.00000000e+00 3.50000000e+00 1.22500000e+01 4.28750000e+01\n",
            "  1.50062500e+02 5.25218750e+02 1.83826562e+03 6.43392969e+03]]\n"
          ],
          "name": "stdout"
        }
      ]
    },
    {
      "cell_type": "code",
      "metadata": {
        "colab": {
          "base_uri": "https://localhost:8080/"
        },
        "id": "oyZqU5bzoMBA",
        "outputId": "6ae6b20f-1451-4ed0-9fd5-e3fdc46c849d"
      },
      "source": [
        "#========================== EL VECTOR DE COORENADAS Y ==========================\r\n",
        "\r\n",
        "y = coord[ :, 1]\r\n",
        "y = np.array( y ).reshape( 8, 1 ) \r\n",
        "print( y )"
      ],
      "execution_count": 66,
      "outputs": [
        {
          "output_type": "stream",
          "text": [
            "[[ 0.     ]\n",
            " [ 0.47942]\n",
            " [ 0.84147]\n",
            " [ 0.99749]\n",
            " [ 0.9093 ]\n",
            " [ 0.59847]\n",
            " [ 0.14112]\n",
            " [-0.35078]]\n"
          ],
          "name": "stdout"
        }
      ]
    },
    {
      "cell_type": "code",
      "metadata": {
        "colab": {
          "base_uri": "https://localhost:8080/"
        },
        "id": "zqjTujtLqtZd",
        "outputId": "3d86baf2-b1e7-43d2-c26b-fa29dc95b5af"
      },
      "source": [
        "#======================== SOLUCIÓN PARA LA ECUACIÓN Xa=Y =======================\r\n",
        "\r\n",
        "solve = la.solve( X, y )\r\n",
        "print ( solve )"
      ],
      "execution_count": 67,
      "outputs": [
        {
          "output_type": "stream",
          "text": [
            "[[ 0.00000000e+00]\n",
            " [ 1.00067181e+00]\n",
            " [-3.70788889e-03]\n",
            " [-1.58867889e-01]\n",
            " [-8.30222222e-03]\n",
            " [ 1.31964444e-02]\n",
            " [-1.54488889e-03]\n",
            " [ 2.46349206e-05]]\n"
          ],
          "name": "stdout"
        }
      ]
    },
    {
      "cell_type": "code",
      "metadata": {
        "colab": {
          "base_uri": "https://localhost:8080/",
          "height": 730
        },
        "id": "AivCyKRctNZr",
        "outputId": "75e423ab-0180-4c1b-f8b3-13592f753044"
      },
      "source": [
        "#===================== GRAFICAMOS EL POLINOMIO INTERPOLADO =====================\r\n",
        "\r\n",
        "xinter = np.linspace(0,4,200)\r\n",
        "yinter = sum( [ solve[ k ]*xinter**k for k in range( 0, N ) ] )\r\n",
        "fsin = np.sin( 2*x )\r\n",
        "\r\n",
        "plt.plot( x, y, 'r.', xinter, yinter, fsin )\r\n",
        "plt.grid()\r\n",
        "\r\n",
        "plt.title( \"Polinomio interpolante p(x)\" )\r\n",
        "plt.xlabel( \"x\" )\r\n",
        "plt.ylabel( \"y\" )\r\n",
        "plt.show()\r\n"
      ],
      "execution_count": 69,
      "outputs": [
        {
          "output_type": "display_data",
          "data": {
            "image/png": "[encoded data removed]",
            "text/plain": [
              "<Figure size 864x864 with 1 Axes>"
            ]
          },
          "metadata": {
            "tags": [],
            "needs_background": "light"
          }
        }
      ]
    },
    {
      "cell_type": "markdown",
      "metadata": {
        "id": "9c0PWoqX_69M"
      },
      "source": [
        "# ***`Ejercicio 6`***"
      ]
    },
    {
      "cell_type": "markdown",
      "metadata": {
        "id": "1HftqvMQzfz5"
      },
      "source": [
        "*`Regrese a su modelo de análisis de series de tiempo. Haga una descomposición de su serie de tiempo de las temperaturas (Tmax y Tmin), y realice una regresión lineal sobre la serie de Tendencia de Temp`* $(T = a_0 + a_1 t)$. *`Encuentre si la pendiente es positiva o negativa de la tendencia (signo de`* $a_1$*`), es decir si las Temperaturas (Tmax, Tmin) están subiendo o bajando en el periodo analizado.`*\r\n"
      ]
    },
    {
      "cell_type": "code",
      "metadata": {
        "id": "kObVBe64p5Qe"
      },
      "source": [
        "#============================ Importamos Bibliotecas ===========================\r\n",
        "\r\n",
        "import pandas as pd                            # Importamos Pandas\r\n",
        "import numpy as np                             # Importamos NumPy\r\n",
        "import matplotlib.pyplot as plt                # Importamos Matplotlib\r\n",
        "import seaborn as sns                          # Importamos Seaborn\r\n",
        "import statsmodels.api as sm                   # Impotamos Statsmodels\r\n",
        "from statsmodels.tsa.stattools import adfuller # Importamos una función de Statsmodels\r\n",
        "import pandas.util.testing as tm               # Importamos una función de Pandas\r\n",
        "\r\n",
        "# %matplotlib inline\r\n",
        "\r\n",
        "#=================== Introducimos el URL del archivo de texto ==================\r\n",
        "\r\n",
        "URL = 'https://raw.githubusercontent.com/Akin-Bonillas-Miranda/Fisica_Computacional/master/Actividad%201/2027.txt'\r\n",
        "\r\n",
        "#============================ Definimos las columnas ===========================\r\n",
        "\r\n",
        "cols = [ \"Fecha\", \"Precip\", \"Evap\", \"Tmax\", \"Tmin\" ]\r\n",
        "\r\n",
        "#=========================== Estructuramos el Archivo ==========================\r\n",
        "\r\n",
        "df_data = pd.read_csv( URL, names=cols, encoding=\"cp1251\", sep=\"\\s+\", header=None, skiprows=19, skipfooter=1, engine=\"python\" )\r\n",
        "\r\n",
        "#======= Hacemos una copia de trabajo y preservamos el DataFrame original ======\r\n",
        "\r\n",
        "df_tran0 = df_data.copy()\r\n",
        "\r\n",
        "#============= Reemplazamos los textos 'Nulo' por espacio en blanco ============\r\n",
        "\r\n",
        "str_nulo = \"Nulo\"\r\n",
        "df_tran1 = df_tran0.replace( to_replace=str_nulo, value=\" \", regex=True )\r\n",
        "\r\n",
        "#==== Convertimos los valores de las variables ambientales a núm. flotantes ====\r\n",
        "\r\n",
        "cols_list = [ \"Precip\", \"Evap\", \"Tmax\", \"Tmin\" ]\r\n",
        "for cols in cols_list:\r\n",
        "  df_tran1[ cols ] = pd.to_numeric( df_tran1[cols], errors=\"coerce\" )\r\n",
        "\r\n",
        "#====== Hacemos una copia de trabajo y preservamos el DataFrame Modificado =====\r\n",
        "\r\n",
        "df_tran2 = df_tran1.copy()\r\n",
        "\r\n",
        "#================ Conviertimos una cadena en tipo datetime64[ns] ===============\r\n",
        "\r\n",
        "df_tran2[ \"Fecha\" ] = pd.to_datetime( df_tran2[ \"Fecha\" ], dayfirst=True ).copy()\r\n",
        "\r\n",
        "#=========== Buscamos ahora añadir dos columnas adicionales: Año, Mes ==========\r\n",
        "\r\n",
        "df_tran2[ \"Año\" ] = df_tran2[ \"Fecha\" ].dt.year\r\n",
        "df_tran2[ \"Mes\" ] = df_tran2[ \"Fecha\" ].dt.month\r\n",
        "\r\n",
        "#== Definimos un nuevo DataFrame para el análisis de los datos meteorológicos == \r\n",
        "\r\n",
        "df_clim = df_tran2.copy()\r\n",
        "\r\n",
        "# Hacemos una copia del último DataFrame para realizar nuevas operaciones\r\n",
        "df_clim_cp = df_clim.copy()\r\n",
        "\r\n",
        "# Redefinimos el índice del DataFrame a que sea la variable 'Fecha'\r\n",
        "df_clim_cp = df_clim_cp.set_index('Fecha')\r\n",
        "\r\n",
        "# Verificamos\r\n",
        "# df_clim_cp.info()\r\n",
        "\r\n",
        "# Seleccionaremos un conjunto de años de 30 años, creando las colecciones de datos \r\n",
        "df_57 = df_clim_cp[(df_clim_cp['Año'] >= 1957) & (df_clim_cp['Año'] < 1960)] # 3\r\n",
        "df_60 = df_clim_cp[(df_clim_cp['Año'] >= 1960) & (df_clim_cp['Año'] < 1970)]\r\n",
        "df_70 = df_clim_cp[(df_clim_cp['Año'] >= 1970) & (df_clim_cp['Año'] < 1980)]\r\n",
        "df_80 = df_clim_cp[(df_clim_cp['Año'] >= 1980) & (df_clim_cp['Año'] < 1990)]\r\n",
        "df_90 = df_clim_cp[(df_clim_cp['Año'] >= 1990) & (df_clim_cp['Año'] < 2000)]"
      ],
      "execution_count": 71,
      "outputs": []
    },
    {
      "cell_type": "code",
      "metadata": {
        "id": "HBM0sZSIqGat"
      },
      "source": [
        "def decomp(dt_data):\r\n",
        "  #======== Método de descomposición usando la biblioteca statsmodels.tsa ========\r\n",
        "\r\n",
        "  decomp = sm.tsa.seasonal_decompose( dt_data.interpolate(), model=\"additive\", freq=365 )\r\n",
        "\r\n",
        "  # La función regresa 3 componentes: tendencia, estacionalidad y un residuo\r\n",
        "\r\n",
        "  Trend = decomp.trend\r\n",
        "  Stati = decomp.seasonal\r\n",
        "  Resid = decomp.resid\r\n",
        "\r\n",
        "  # Graficamos las componentes\r\n",
        "  plt.rcParams[ \"figure.figsize\" ] = (12,12)\r\n",
        "  plt.subplot( 411 )\r\n",
        "  plt.plot( dt_data, label=\"Observado (Escala Log)\" )\r\n",
        "  plt.legend( loc=\"best\" )\r\n",
        "\r\n",
        "  plt.subplot( 412 )\r\n",
        "  plt.plot( Trend, label=\"Tendencia\" )\r\n",
        "  plt.legend( loc=\"best\" )\r\n",
        "\r\n",
        "  plt.subplot( 413 )\r\n",
        "  plt.plot( Stati, label=\"Estacionalidad\" )\r\n",
        "  plt.legend( loc=\"best\" )\r\n",
        "\r\n",
        "  plt.subplot( 414 )\r\n",
        "  plt.plot( Resid, label=\"Residuo\" )\r\n",
        "  plt.legend( loc=\"best\" )\r\n",
        "\r\n",
        "  # Colocar gráficas lo más cercanas posibles\r\n",
        "  plt.tight_layout();"
      ],
      "execution_count": 72,
      "outputs": []
    },
    {
      "cell_type": "code",
      "metadata": {
        "colab": {
          "base_uri": "https://localhost:8080/",
          "height": 872
        },
        "id": "WQCwC36OqLwW",
        "outputId": "ee83ecd8-6657-494f-b8bf-9ffba94256ad"
      },
      "source": [
        "df_Tmax = df_90['Tmax'].copy()\r\n",
        "\r\n",
        "decomp(df_Tmax)"
      ],
      "execution_count": 73,
      "outputs": [
        {
          "output_type": "display_data",
          "data": {
            "image/png": "[encoded data removed]",
            "text/plain": [
              "<Figure size 864x864 with 4 Axes>"
            ]
          },
          "metadata": {
            "tags": [],
            "needs_background": "light"
          }
        }
      ]
    },
    {
      "cell_type": "markdown",
      "metadata": {
        "id": "lf9pK8hL3tNX"
      },
      "source": [
        "Perdón, profe, no supe cómo hacerlo :("
      ]
    }
  ]
}