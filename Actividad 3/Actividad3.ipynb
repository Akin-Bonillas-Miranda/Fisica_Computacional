{
  "nbformat": 4,
  "nbformat_minor": 0,
  "metadata": {
    "colab": {
      "name": "Actividad3.ipynb",
      "provenance": []
    },
    "kernelspec": {
      "name": "python3",
      "display_name": "Python 3"
    }
  },
  "cells": [
    {
      "cell_type": "markdown",
      "metadata": {
        "id": "6lBTzOo2799W"
      },
      "source": [
        "***`Universidad de Sonora, Campus Hermosillo`***\r\n",
        "\r\n",
        "---\r\n",
        "\r\n",
        "***`Profesor: `*** *`Lizarraga Celaya Carlos`*\r\n",
        "\r\n",
        "***`Materia: `*** *`Física Computacional`*\r\n",
        "\r\n",
        "---\r\n",
        "\r\n",
        "***`Trabajo: `*** *`Actividad 3`*\r\n",
        "\r\n",
        "---\r\n",
        "\r\n",
        "***`Alumno: `*** *`Bonillas Miranda Akin`*\r\n",
        "\r\n",
        "***`Número de Expediente: `*** *`219211360`*\r\n",
        "\r\n",
        "***`Correo: `*** *`a219211360@unison.mx // akinbonillasmiranda@gmail.com`*\r\n",
        "\r\n",
        "***`Número Telefónico: `*** *`662 368 2474`*\r\n",
        "\r\n",
        "---\r\n",
        "\r\n",
        "***`Grupo: `*** *`2`*\r\n",
        "\r\n",
        "***`Carrera: `*** *`Licenciatura en Física`*\r\n",
        "\r\n",
        "***`Semestre: `*** *`Cuarto Semestre`*\r\n",
        "\r\n",
        "---\r\n",
        "\r\n",
        "***`Viernes 29 de Enero de 2021, Hermosillo, Sonora`***"
      ]
    },
    {
      "cell_type": "markdown",
      "metadata": {
        "id": "uKttiF0dJ9fV"
      },
      "source": [
        "."
      ]
    },
    {
      "cell_type": "markdown",
      "metadata": {
        "id": "SvtrdmQlxXnJ"
      },
      "source": [
        "***`Paso 1.-`*** *`Abre un nuevo cuaderno de trabajo Jupyter en Google Colab, llamado Actividad3. Carga las bibliotecas Numpy y Pandas. Enseguida define un nuevo DataFrame \"df\" con la ayuda de la función de Pandas \"pd.read_csv\", leyendo el archivo csv con los datos climatológicos de la estación meteorológica que has seleccionado para estas actividades y que has almacenado en tu repositorio en Github.`*"
      ]
    },
    {
      "cell_type": "code",
      "metadata": {
        "id": "na6QUQN5T78g"
      },
      "source": [
        "#========================== Definicmos las bibliotecas =========================\r\n",
        "\r\n",
        "import pandas as pd   # Importamos la biblioteca Pandas\r\n",
        "import numpy as np    # Importamos la biblioteca NumPy\r\n",
        "\r\n",
        "#=================== Introducimos el URL del archivo de texto ==================\r\n",
        "\r\n",
        "# Tomar la dirección URL del archivo en formato 'raw'\r\n",
        "URL = 'https://raw.githubusercontent.com/Akin-Bonillas-Miranda/Fisica_Computacional/master/Actividad%201/2027.txt'\r\n",
        "\r\n",
        "#============================ Definimos las columnas ===========================\r\n",
        "\r\n",
        "cols = ['Fecha', 'Precip', 'Evap', 'Tmax', 'Tmin']\r\n",
        "  # Definimos los nombres de las columnas \r\n",
        "\r\n",
        "#=========================== Estructuramos el Archivo ==========================\r\n",
        "\r\n",
        "df_data = pd.read_csv( URL, names=cols, encoding='cp1251', sep='\\s+', header=None, skiprows=19, skipfooter=1, engine='python' )\r\n",
        "  # encoding='cp1251': El archivo tiene códigos ASCII extendido (Español)\r\n",
        "  #         sep='\\s+': El separador de datos es de uno o más espacios\r\n",
        "  #       header=None: afirmamos que no nay encabezado\r\n",
        "  #       skiprows=19: Se brincará los primeros 19 renglones \r\n",
        "  #      skipfooter=1: y el último\r\n",
        "  #   engine='python': Se procesan los datos utilizando Python"
      ],
      "execution_count": 3,
      "outputs": []
    },
    {
      "cell_type": "markdown",
      "metadata": {
        "id": "EVXr2c14KHw2"
      },
      "source": [
        "."
      ]
    },
    {
      "cell_type": "markdown",
      "metadata": {
        "id": "ygrMdBw7x8oG"
      },
      "source": [
        "***`Paso 2.-`*** *`Una vez que hayas leído tu archivo de datos, usando la función \"df.head(n)\" y \"df.tail()\", y estudia la estructura de tu archivo, para determinar que renglones trae la información de los nombres de las columnas y en qué número de renglón comienzan los datos. Lo que buscamos es quedarnos con un DataFrame con los nombres de las columnas en el primer renglón y el resto de renglones serán sólo datos diarios de la estación meteorológica. `*"
      ]
    },
    {
      "cell_type": "code",
      "metadata": {
        "colab": {
          "base_uri": "https://localhost:8080/"
        },
        "id": "PmiU0HfxxGB1",
        "outputId": "6a685669-f2b7-49fb-871d-b1b208ab91cb"
      },
      "source": [
        "#=============== Revisamos el encabezado y el final del dataframe ==============\r\n",
        "\r\n",
        "print(df_data.head())\r\n",
        "print(\" \")\r\n",
        "print(df_data.tail())\r\n",
        "print(\" \")"
      ],
      "execution_count": 4,
      "outputs": [
        {
          "output_type": "stream",
          "text": [
            "        Fecha Precip  Evap  Tmax  Tmin\n",
            "0  13/12/1957      0  Nulo  24.4  Nulo\n",
            "1  14/12/1957      0  Nulo  24.4  15.6\n",
            "2  15/12/1957      0  Nulo  25.6  18.3\n",
            "3  16/12/1957      0  Nulo  22.2  17.8\n",
            "4  17/12/1957      0  Nulo  22.2  16.7\n",
            " \n",
            "            Fecha Precip  Evap Tmax Tmin\n",
            "12019  25/02/2000      0  Nulo   26   14\n",
            "12020  26/02/2000      0  Nulo   27   15\n",
            "12021  27/02/2000      0  Nulo   27   15\n",
            "12022  28/02/2000      0  Nulo   26   15\n",
            "12023  29/02/2000      0  Nulo   24   14\n",
            " \n"
          ],
          "name": "stdout"
        }
      ]
    },
    {
      "cell_type": "markdown",
      "metadata": {
        "id": "CZTlZ4tdKNlR"
      },
      "source": [
        "."
      ]
    },
    {
      "cell_type": "markdown",
      "metadata": {
        "id": "4U3Dgmk-yeTX"
      },
      "source": [
        "***`Paso 3.-`*** *`Enseguida se pide explorar el dataframe recién cargado a la memoria. Para esto, se pide hacer una bitácora anotando o agregando un comentario de las acciones desarrolladas.`*"
      ]
    },
    {
      "cell_type": "markdown",
      "metadata": {
        "id": "CHS3WP0Wyy1Q"
      },
      "source": [
        "*`- Imprime el encabezado y final del dataframe: print(df.head(10)), print(df.tail(10))`*"
      ]
    },
    {
      "cell_type": "code",
      "metadata": {
        "colab": {
          "base_uri": "https://localhost:8080/"
        },
        "id": "K9iu3nhMy_zc",
        "outputId": "2687524e-d9c0-4ebe-91d0-42a611719a1a"
      },
      "source": [
        "#=============== Revisamos el encabezado y el final del dataframe ==============\r\n",
        "\r\n",
        "print(df_data.head(10))  # Con un argumento vacío \"()\" muestra 5 renglones\r\n",
        "print(\" \")\r\n",
        "print(df_data.tail(10))  # Con el argumento vacío \"()\" muestra 5 renglones\r\n",
        "print(\" \")"
      ],
      "execution_count": 5,
      "outputs": [
        {
          "output_type": "stream",
          "text": [
            "        Fecha Precip  Evap  Tmax  Tmin\n",
            "0  13/12/1957      0  Nulo  24.4  Nulo\n",
            "1  14/12/1957      0  Nulo  24.4  15.6\n",
            "2  15/12/1957      0  Nulo  25.6  18.3\n",
            "3  16/12/1957      0  Nulo  22.2  17.8\n",
            "4  17/12/1957      0  Nulo  22.2  16.7\n",
            "5  18/12/1957      0  Nulo  21.1  15.6\n",
            "6  19/12/1957      0  Nulo  23.5  14.4\n",
            "7  20/12/1957      0  Nulo  22.8  12.2\n",
            "8  21/12/1957      0  Nulo    25  12.8\n",
            "9  22/12/1957      0  Nulo  22.2    10\n",
            " \n",
            "            Fecha Precip  Evap Tmax Tmin\n",
            "12014  20/02/2000      0  Nulo   21   16\n",
            "12015  21/02/2000      0  Nulo   23   16\n",
            "12016  22/02/2000      0  Nulo   27   15\n",
            "12017  23/02/2000      0  Nulo   26   15\n",
            "12018  24/02/2000      0  Nulo   25   14\n",
            "12019  25/02/2000      0  Nulo   26   14\n",
            "12020  26/02/2000      0  Nulo   27   15\n",
            "12021  27/02/2000      0  Nulo   27   15\n",
            "12022  28/02/2000      0  Nulo   26   15\n",
            "12023  29/02/2000      0  Nulo   24   14\n",
            " \n"
          ],
          "name": "stdout"
        }
      ]
    },
    {
      "cell_type": "markdown",
      "metadata": {
        "id": "Qemk21PP0rxu"
      },
      "source": [
        "*`- ¿Qué dimensiones tiene tu dataframe?: df.shape`*"
      ]
    },
    {
      "cell_type": "code",
      "metadata": {
        "colab": {
          "base_uri": "https://localhost:8080/"
        },
        "id": "Y9Bh86YQxBrg",
        "outputId": "c5fd6469-eac2-4da4-8919-4f015aab8e09"
      },
      "source": [
        "#================= Investigamos su tamaño con la función shape =================\r\n",
        "\r\n",
        "print(df_data.shape) # (renglones, columnas)"
      ],
      "execution_count": 6,
      "outputs": [
        {
          "output_type": "stream",
          "text": [
            "(12024, 5)\n"
          ],
          "name": "stdout"
        }
      ]
    },
    {
      "cell_type": "markdown",
      "metadata": {
        "id": "Kb_6n3OQ1Fyl"
      },
      "source": [
        "*`- ¿Cómo es el contenido de tu dataframe?: df.info()`*"
      ]
    },
    {
      "cell_type": "code",
      "metadata": {
        "colab": {
          "base_uri": "https://localhost:8080/"
        },
        "id": "YrUirPI3w_ut",
        "outputId": "d9ebb36f-2368-49f5-de2b-4763443cd069"
      },
      "source": [
        "#=============== Mostraremos la información del archivo de texto ===============\r\n",
        "\r\n",
        "print(df_data.info())"
      ],
      "execution_count": 7,
      "outputs": [
        {
          "output_type": "stream",
          "text": [
            "<class 'pandas.core.frame.DataFrame'>\n",
            "RangeIndex: 12024 entries, 0 to 12023\n",
            "Data columns (total 5 columns):\n",
            " #   Column  Non-Null Count  Dtype \n",
            "---  ------  --------------  ----- \n",
            " 0   Fecha   12024 non-null  object\n",
            " 1   Precip  12024 non-null  object\n",
            " 2   Evap    12024 non-null  object\n",
            " 3   Tmax    12024 non-null  object\n",
            " 4   Tmin    12024 non-null  object\n",
            "dtypes: object(5)\n",
            "memory usage: 469.8+ KB\n",
            "None\n"
          ],
          "name": "stdout"
        }
      ]
    },
    {
      "cell_type": "markdown",
      "metadata": {
        "id": "wBaZ45rK1hXa"
      },
      "source": [
        "*`- Los datos originales incluyen la cadena de caracteres 'Nulo', indicando que no hubo datos para esa variable, ese día. Tenemos que reemplazar la palabra nulo con la función: df.replace()`*"
      ]
    },
    {
      "cell_type": "code",
      "metadata": {
        "colab": {
          "base_uri": "https://localhost:8080/"
        },
        "id": "GOxulmFu11HL",
        "outputId": "30272f38-0d1f-4bbd-fc12-bbbded1594e3"
      },
      "source": [
        "#======= Hacemos una copia de trabajo y preservamos el DataFrame original ======\r\n",
        "\r\n",
        "df_tran0 = df_data.copy()\r\n",
        "\r\n",
        "print(df_tran0.head()) # Comprobamos que el DataFrame original está intacto"
      ],
      "execution_count": 8,
      "outputs": [
        {
          "output_type": "stream",
          "text": [
            "        Fecha Precip  Evap  Tmax  Tmin\n",
            "0  13/12/1957      0  Nulo  24.4  Nulo\n",
            "1  14/12/1957      0  Nulo  24.4  15.6\n",
            "2  15/12/1957      0  Nulo  25.6  18.3\n",
            "3  16/12/1957      0  Nulo  22.2  17.8\n",
            "4  17/12/1957      0  Nulo  22.2  16.7\n"
          ],
          "name": "stdout"
        }
      ]
    },
    {
      "cell_type": "code",
      "metadata": {
        "colab": {
          "base_uri": "https://localhost:8080/"
        },
        "id": "av7D90-iu8xL",
        "outputId": "42536eec-4773-4234-b2b2-befe8cfe4b9d"
      },
      "source": [
        "#============= Reemplazamos los textos 'Nulo' por espacio en blanco ============\r\n",
        "\r\n",
        "str_nulo = 'Nulo'\r\n",
        "df_tran1 = df_tran0.replace( to_replace=str_nulo, value='', regex=True)\r\n",
        "\r\n",
        "print(df_tran1.head()) # Comprobamos que el DataFrame se haya transformado\r\n"
      ],
      "execution_count": 9,
      "outputs": [
        {
          "output_type": "stream",
          "text": [
            "        Fecha Precip Evap  Tmax  Tmin\n",
            "0  13/12/1957      0       24.4      \n",
            "1  14/12/1957      0       24.4  15.6\n",
            "2  15/12/1957      0       25.6  18.3\n",
            "3  16/12/1957      0       22.2  17.8\n",
            "4  17/12/1957      0       22.2  16.7\n"
          ],
          "name": "stdout"
        }
      ]
    },
    {
      "cell_type": "code",
      "metadata": {
        "colab": {
          "base_uri": "https://localhost:8080/"
        },
        "id": "ZQ6v2lEI25HK",
        "outputId": "76ddda4a-9338-42b8-a7aa-eafedcaf8bc7"
      },
      "source": [
        "#============= Imprimimos la información actualizada del DataFrame =============\r\n",
        "print(df_tran1.info())\r\n",
        "print(\" \")\r\n",
        "print(df_tran1.head())\r\n",
        "print(\" \")"
      ],
      "execution_count": 10,
      "outputs": [
        {
          "output_type": "stream",
          "text": [
            "<class 'pandas.core.frame.DataFrame'>\n",
            "RangeIndex: 12024 entries, 0 to 12023\n",
            "Data columns (total 5 columns):\n",
            " #   Column  Non-Null Count  Dtype \n",
            "---  ------  --------------  ----- \n",
            " 0   Fecha   12024 non-null  object\n",
            " 1   Precip  12024 non-null  object\n",
            " 2   Evap    12024 non-null  object\n",
            " 3   Tmax    12024 non-null  object\n",
            " 4   Tmin    12024 non-null  object\n",
            "dtypes: object(5)\n",
            "memory usage: 469.8+ KB\n",
            "None\n",
            " \n",
            "        Fecha Precip Evap  Tmax  Tmin\n",
            "0  13/12/1957      0       24.4      \n",
            "1  14/12/1957      0       24.4  15.6\n",
            "2  15/12/1957      0       25.6  18.3\n",
            "3  16/12/1957      0       22.2  17.8\n",
            "4  17/12/1957      0       22.2  16.7\n",
            " \n"
          ],
          "name": "stdout"
        }
      ]
    },
    {
      "cell_type": "markdown",
      "metadata": {
        "id": "KvCJ2gjA2lpT"
      },
      "source": [
        "*`- Después habrá que convertir a número flotante o numérico los datos de Precipitación, Evaporación, Temperatura Máxima y Temperatura mínima utilizando la función: df.to_numeric() `*"
      ]
    },
    {
      "cell_type": "code",
      "metadata": {
        "id": "8KbV2NA52pUb"
      },
      "source": [
        "#==== Convertimos los valores de las variables ambientales a núm. flotantes ====\r\n",
        "\r\n",
        "cols_list = ['Precip', 'Evap', 'Tmax', 'Tmin']\r\n",
        "for cols in cols_list:\r\n",
        "  df_tran1[cols] = pd.to_numeric(df_tran1[cols], errors='coerce')"
      ],
      "execution_count": 11,
      "outputs": []
    },
    {
      "cell_type": "markdown",
      "metadata": {
        "id": "_oZOU89P43Kn"
      },
      "source": [
        "*`- Contrasta ahora la información de tu DataFrame con la función: df.info()`*"
      ]
    },
    {
      "cell_type": "code",
      "metadata": {
        "colab": {
          "base_uri": "https://localhost:8080/"
        },
        "id": "ltY5i0KF4-NJ",
        "outputId": "4aa80f16-ade5-4380-9b1a-aef642914146"
      },
      "source": [
        "print(df_tran1.info())"
      ],
      "execution_count": 12,
      "outputs": [
        {
          "output_type": "stream",
          "text": [
            "<class 'pandas.core.frame.DataFrame'>\n",
            "RangeIndex: 12024 entries, 0 to 12023\n",
            "Data columns (total 5 columns):\n",
            " #   Column  Non-Null Count  Dtype  \n",
            "---  ------  --------------  -----  \n",
            " 0   Fecha   12024 non-null  object \n",
            " 1   Precip  11098 non-null  float64\n",
            " 2   Evap    121 non-null    float64\n",
            " 3   Tmax    12016 non-null  float64\n",
            " 4   Tmin    12014 non-null  float64\n",
            "dtypes: float64(4), object(1)\n",
            "memory usage: 469.8+ KB\n",
            "None\n"
          ],
          "name": "stdout"
        }
      ]
    },
    {
      "cell_type": "markdown",
      "metadata": {
        "id": "AuzQ3PA-BAkG"
      },
      "source": [
        "*`- Se puede contabilizar el número de datos faltantes en esas variables mediante la función: df.isnull().sum()`*"
      ]
    },
    {
      "cell_type": "code",
      "metadata": {
        "colab": {
          "base_uri": "https://localhost:8080/"
        },
        "id": "tvMcsuCpBPVq",
        "outputId": "0cc7a2fd-7205-4c8b-9808-8eb2dd124f44"
      },
      "source": [
        "#=============================== Sumamos los valores nulos =====================\r\n",
        "\r\n",
        "print(df_tran1.isnull().sum())"
      ],
      "execution_count": 13,
      "outputs": [
        {
          "output_type": "stream",
          "text": [
            "Fecha         0\n",
            "Precip      926\n",
            "Evap      11903\n",
            "Tmax          8\n",
            "Tmin         10\n",
            "dtype: int64\n"
          ],
          "name": "stdout"
        }
      ]
    },
    {
      "cell_type": "markdown",
      "metadata": {
        "id": "0A62ZzQUDYCe"
      },
      "source": [
        "*`- Imprime de nuevo el encabezado y final de tu dataframe, con las funciones \"df.head()\" y \"df.tail()\"`*"
      ]
    },
    {
      "cell_type": "code",
      "metadata": {
        "colab": {
          "base_uri": "https://localhost:8080/"
        },
        "id": "yIR1uSvdDXIs",
        "outputId": "f865e39c-f91e-40c3-ce49-4fb12b3bc5a6"
      },
      "source": [
        "print(df_tran1.head())\r\n",
        "print(\" \")\r\n",
        "print(df_tran1.head())\r\n",
        "print(\" \")"
      ],
      "execution_count": 14,
      "outputs": [
        {
          "output_type": "stream",
          "text": [
            "        Fecha  Precip  Evap  Tmax  Tmin\n",
            "0  13/12/1957     0.0   NaN  24.4   NaN\n",
            "1  14/12/1957     0.0   NaN  24.4  15.6\n",
            "2  15/12/1957     0.0   NaN  25.6  18.3\n",
            "3  16/12/1957     0.0   NaN  22.2  17.8\n",
            "4  17/12/1957     0.0   NaN  22.2  16.7\n",
            " \n",
            "        Fecha  Precip  Evap  Tmax  Tmin\n",
            "0  13/12/1957     0.0   NaN  24.4   NaN\n",
            "1  14/12/1957     0.0   NaN  24.4  15.6\n",
            "2  15/12/1957     0.0   NaN  25.6  18.3\n",
            "3  16/12/1957     0.0   NaN  22.2  17.8\n",
            "4  17/12/1957     0.0   NaN  22.2  16.7\n",
            " \n"
          ],
          "name": "stdout"
        }
      ]
    },
    {
      "cell_type": "markdown",
      "metadata": {
        "id": "CPo769u2D6KR"
      },
      "source": [
        "*`- Realiza una estadística básica de las variables numéricas de tu dataframe usando la función: \"df.describe()\" y haz una interpretación de los resultados, para ver si tienen sentido físico (por ej. valores negativos de precipitación, valores extremos fuera de lo normal, etc)`*\r\n",
        " "
      ]
    },
    {
      "cell_type": "code",
      "metadata": {
        "colab": {
          "base_uri": "https://localhost:8080/"
        },
        "id": "EptRdHSYEEUq",
        "outputId": "1ca01de3-1c62-4a54-824a-f0f8da5e40a4"
      },
      "source": [
        "#=========== Un análisis estadístico breve de las variables numéricas ==========\r\n",
        "#===================== Redondeado a 4 cifras significativas ====================\r\n",
        "\r\n",
        "print(df_tran1.describe().round(4))"
      ],
      "execution_count": 15,
      "outputs": [
        {
          "output_type": "stream",
          "text": [
            "           Precip      Evap        Tmax        Tmin\n",
            "count  11098.0000  121.0000  12016.0000  12014.0000\n",
            "mean       0.1470    4.1025     25.9776     17.0092\n",
            "std        1.5416    1.6835      3.7748      3.5081\n",
            "min        0.0000    0.5000     12.0000     -1.1000\n",
            "25%        0.0000    3.0000     23.3000     14.4000\n",
            "50%        0.0000    4.0000     26.0000     17.0000\n",
            "75%        0.0000    5.4000     28.5000     19.5000\n",
            "max       45.0000    8.7000     40.0000     27.0000\n"
          ],
          "name": "stdout"
        }
      ]
    },
    {
      "cell_type": "markdown",
      "metadata": {
        "id": "6VNR-jB_K3HG"
      },
      "source": [
        "."
      ]
    },
    {
      "cell_type": "markdown",
      "metadata": {
        "id": "tTSTN3nWGbrJ"
      },
      "source": [
        "***`Paso 4.-`*** *`Análisis de la variable Fecha. Pandas maneja las variables tipo Fecha y Tiempo. Ofrece una serie de herramientas para su manipulación. Lo que sigue es convertir el objeto que se ha leído a una variable que Python comprenda.  `*"
      ]
    },
    {
      "cell_type": "markdown",
      "metadata": {
        "id": "4svV57okHGxf"
      },
      "source": [
        "*`- Comienza haciendo una copia del dataframe del paso anterior, por si se requiere recuperar el nuevo dataframe, utilizando df:new=df.copy()`*"
      ]
    },
    {
      "cell_type": "code",
      "metadata": {
        "colab": {
          "base_uri": "https://localhost:8080/"
        },
        "id": "RSi0kH1RHU4X",
        "outputId": "9192d15b-f9f4-42f3-c47c-cea5bd909e30"
      },
      "source": [
        "#====== Hacemos una copia de trabajo y preservamos el DataFrame Modificado =====\r\n",
        "\r\n",
        "df_tran2 = df_tran1.copy()\r\n",
        "\r\n",
        "print(df_tran2['Fecha'].head()) \r\n",
        "# Comprobamos que el DataFrame modificado está intacto"
      ],
      "execution_count": 16,
      "outputs": [
        {
          "output_type": "stream",
          "text": [
            "0    13/12/1957\n",
            "1    14/12/1957\n",
            "2    15/12/1957\n",
            "3    16/12/1957\n",
            "4    17/12/1957\n",
            "Name: Fecha, dtype: object\n"
          ],
          "name": "stdout"
        }
      ]
    },
    {
      "cell_type": "markdown",
      "metadata": {
        "id": "I6ThJVbOL_P2"
      },
      "source": [
        "*`- Utiliza la función de Pandas \"pd.to_datetime()\", para convertir el objeto Fecha a formato de fecha que comprende Python.  Lee el manual de esa función e intenta la conversión. `*"
      ]
    },
    {
      "cell_type": "code",
      "metadata": {
        "colab": {
          "base_uri": "https://localhost:8080/"
        },
        "id": "YSjsos_VMUHC",
        "outputId": "a0b80b75-ad0e-4393-9db3-91f05d0e403b"
      },
      "source": [
        "# Pandas tiene la función pd.to_datetime que convierte una cadena en tipo datetime64[ns]\r\n",
        "# Intentamos a ver si Python reconoce el formato en nuestro caso. \r\n",
        "# Agregamos la opción de que el primer dato es el día (dayfirst=True)\r\n",
        "\r\n",
        "df_tran2['Fecha']=pd.to_datetime(df_tran2['Fecha'], dayfirst=True).copy()\r\n",
        "print(df_tran2.head())"
      ],
      "execution_count": 17,
      "outputs": [
        {
          "output_type": "stream",
          "text": [
            "       Fecha  Precip  Evap  Tmax  Tmin\n",
            "0 1957-12-13     0.0   NaN  24.4   NaN\n",
            "1 1957-12-14     0.0   NaN  24.4  15.6\n",
            "2 1957-12-15     0.0   NaN  25.6  18.3\n",
            "3 1957-12-16     0.0   NaN  22.2  17.8\n",
            "4 1957-12-17     0.0   NaN  22.2  16.7\n"
          ],
          "name": "stdout"
        }
      ]
    },
    {
      "cell_type": "markdown",
      "metadata": {
        "id": "0zfVcsmJPHWf"
      },
      "source": [
        "*`- Después utiliza la función df.dtypes para verificar que todas las variables son del tipo deseado.  `*"
      ]
    },
    {
      "cell_type": "code",
      "metadata": {
        "colab": {
          "base_uri": "https://localhost:8080/"
        },
        "id": "OQsZCfVUPREJ",
        "outputId": "f9a9c4bc-483c-4529-ed54-fc1fc0303bce"
      },
      "source": [
        "#=========== Verificamos que cada vcolumna sea del tipo que esperamos ==========\r\n",
        "# Observamos que la variable Fecha es de tipo 'datetime64[ns]'  \r\n",
        "\r\n",
        "df_tran2.dtypes"
      ],
      "execution_count": 18,
      "outputs": [
        {
          "output_type": "execute_result",
          "data": {
            "text/plain": [
              "Fecha     datetime64[ns]\n",
              "Precip           float64\n",
              "Evap             float64\n",
              "Tmax             float64\n",
              "Tmin             float64\n",
              "dtype: object"
            ]
          },
          "metadata": {
            "tags": []
          },
          "execution_count": 18
        }
      ]
    },
    {
      "cell_type": "markdown",
      "metadata": {
        "id": "fytEDcgkSdii"
      },
      "source": [
        "*`- Enseguida con la ayuda de las funciones de Pandas df['Fecha'].dt.year y df['Fecha'].dt.month, crea dos columnas nuevas adicionales df['Año'] y df['Mes'].`*"
      ]
    },
    {
      "cell_type": "code",
      "metadata": {
        "id": "_8KjLJdHSjlQ"
      },
      "source": [
        "#=========== Buscamos ahora añadir dos columnas adicionales: Año, Mes ==========\r\n",
        "# Usaremos la función .dt.year y .dt.month para extraer el Año y Mes de la Fecha\r\n",
        "\r\n",
        "df_tran2['Año'] = df_tran2['Fecha'].dt.year\r\n",
        "df_tran2['Mes'] = df_tran2['Fecha'].dt.month"
      ],
      "execution_count": 19,
      "outputs": []
    },
    {
      "cell_type": "markdown",
      "metadata": {
        "id": "F_ol-JocTVS9"
      },
      "source": [
        "*`- Utilizando la función print aplicado a las funciones df.head() y df.tail(), verifica que el dataframe tiene la forma deseada.`*"
      ]
    },
    {
      "cell_type": "code",
      "metadata": {
        "colab": {
          "base_uri": "https://localhost:8080/"
        },
        "id": "jEoPiEy_TtgO",
        "outputId": "7576b152-3241-4266-8903-26b7b57e511c"
      },
      "source": [
        "#============== Verificamos que se hayan creado de forma correcta ==============\r\n",
        "\r\n",
        "print(df_tran2.head())\r\n",
        "print(\" \")\r\n",
        "print(df_tran2.tail())\r\n",
        "print(\" \")"
      ],
      "execution_count": 20,
      "outputs": [
        {
          "output_type": "stream",
          "text": [
            "       Fecha  Precip  Evap  Tmax  Tmin   Año  Mes\n",
            "0 1957-12-13     0.0   NaN  24.4   NaN  1957   12\n",
            "1 1957-12-14     0.0   NaN  24.4  15.6  1957   12\n",
            "2 1957-12-15     0.0   NaN  25.6  18.3  1957   12\n",
            "3 1957-12-16     0.0   NaN  22.2  17.8  1957   12\n",
            "4 1957-12-17     0.0   NaN  22.2  16.7  1957   12\n",
            " \n",
            "           Fecha  Precip  Evap  Tmax  Tmin   Año  Mes\n",
            "12019 2000-02-25     0.0   NaN  26.0  14.0  2000    2\n",
            "12020 2000-02-26     0.0   NaN  27.0  15.0  2000    2\n",
            "12021 2000-02-27     0.0   NaN  27.0  15.0  2000    2\n",
            "12022 2000-02-28     0.0   NaN  26.0  15.0  2000    2\n",
            "12023 2000-02-29     0.0   NaN  24.0  14.0  2000    2\n",
            " \n"
          ],
          "name": "stdout"
        }
      ]
    },
    {
      "cell_type": "markdown",
      "metadata": {
        "id": "WeyjYQx-UNcS"
      },
      "source": [
        "*`- Y complementa con la función df.dtypes, para verificar que todas las variables son del tipo adecuado.`*"
      ]
    },
    {
      "cell_type": "code",
      "metadata": {
        "colab": {
          "base_uri": "https://localhost:8080/"
        },
        "id": "e20TQ0CuURfr",
        "outputId": "5d20d0e3-171c-4a5f-ae00-5e49793e083c"
      },
      "source": [
        "#=============== Verificamos que Año y Mes son variables enteras ===============\r\n",
        "\r\n",
        "print(df_tran2.info())"
      ],
      "execution_count": 21,
      "outputs": [
        {
          "output_type": "stream",
          "text": [
            "<class 'pandas.core.frame.DataFrame'>\n",
            "RangeIndex: 12024 entries, 0 to 12023\n",
            "Data columns (total 7 columns):\n",
            " #   Column  Non-Null Count  Dtype         \n",
            "---  ------  --------------  -----         \n",
            " 0   Fecha   12024 non-null  datetime64[ns]\n",
            " 1   Precip  11098 non-null  float64       \n",
            " 2   Evap    121 non-null    float64       \n",
            " 3   Tmax    12016 non-null  float64       \n",
            " 4   Tmin    12014 non-null  float64       \n",
            " 5   Año     12024 non-null  int64         \n",
            " 6   Mes     12024 non-null  int64         \n",
            "dtypes: datetime64[ns](1), float64(4), int64(2)\n",
            "memory usage: 657.7 KB\n",
            "None\n"
          ],
          "name": "stdout"
        }
      ]
    },
    {
      "cell_type": "markdown",
      "metadata": {
        "id": "ZMYRmkuaU1No"
      },
      "source": [
        "*`- Hasta aquí llegaremos esta semana.`*"
      ]
    }
  ]
}